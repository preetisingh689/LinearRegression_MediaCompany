{
 "cells": [
  {
   "cell_type": "markdown",
   "id": "rising-aside",
   "metadata": {
    "papermill": {
     "duration": 0.047964,
     "end_time": "2021-06-21T10:04:50.462029",
     "exception": false,
     "start_time": "2021-06-21T10:04:50.414065",
     "status": "completed"
    },
    "tags": []
   },
   "source": [
    "## Media Company Case Study"
   ]
  },
  {
   "cell_type": "markdown",
   "id": "structural-prisoner",
   "metadata": {
    "papermill": {
     "duration": 0.047027,
     "end_time": "2021-06-21T10:04:50.556127",
     "exception": false,
     "start_time": "2021-06-21T10:04:50.509100",
     "status": "completed"
    },
    "tags": []
   },
   "source": [
    "Problem Statement: A digital media company (similar to Voot, Hotstar, Netflix, etc.) had launched a show. Initially, the show got a good response, but then witnessed a decline in viewership. The company wants to figure out what went wrong."
   ]
  },
  {
   "cell_type": "code",
   "execution_count": 1,
   "id": "hearing-honduras",
   "metadata": {
    "execution": {
     "iopub.execute_input": "2021-06-21T10:04:50.657144Z",
     "iopub.status.busy": "2021-06-21T10:04:50.656050Z",
     "iopub.status.idle": "2021-06-21T10:04:51.490580Z",
     "shell.execute_reply": "2021-06-21T10:04:51.491060Z",
     "shell.execute_reply.started": "2021-06-21T10:04:19.247269Z"
    },
    "papermill": {
     "duration": 0.887873,
     "end_time": "2021-06-21T10:04:51.491344",
     "exception": false,
     "start_time": "2021-06-21T10:04:50.603471",
     "status": "completed"
    },
    "tags": []
   },
   "outputs": [],
   "source": [
    "# Importing all required packages\n",
    "import numpy as np\n",
    "import pandas as pd\n",
    "import matplotlib.pyplot as plt\n",
    "import seaborn as sns\n",
    "%matplotlib inline"
   ]
  },
  {
   "cell_type": "code",
   "execution_count": 2,
   "id": "unlike-testimony",
   "metadata": {
    "execution": {
     "iopub.execute_input": "2021-06-21T10:04:51.587818Z",
     "iopub.status.busy": "2021-06-21T10:04:51.587207Z",
     "iopub.status.idle": "2021-06-21T10:04:51.621234Z",
     "shell.execute_reply": "2021-06-21T10:04:51.621727Z",
     "shell.execute_reply.started": "2021-06-21T10:04:19.255296Z"
    },
    "papermill": {
     "duration": 0.083562,
     "end_time": "2021-06-21T10:04:51.621924",
     "exception": false,
     "start_time": "2021-06-21T10:04:51.538362",
     "status": "completed"
    },
    "tags": []
   },
   "outputs": [],
   "source": [
    "#Importing dataset\n",
    "media = pd.read_csv('../input/media-company/mediacompany.csv')\n",
    "media = media.drop('Unnamed: 7',axis = 1)"
   ]
  },
  {
   "cell_type": "code",
   "execution_count": 3,
   "id": "published-statistics",
   "metadata": {
    "execution": {
     "iopub.execute_input": "2021-06-21T10:04:51.718333Z",
     "iopub.status.busy": "2021-06-21T10:04:51.717668Z",
     "iopub.status.idle": "2021-06-21T10:04:51.733964Z",
     "shell.execute_reply": "2021-06-21T10:04:51.734437Z",
     "shell.execute_reply.started": "2021-06-21T10:04:19.279669Z"
    },
    "papermill": {
     "duration": 0.066205,
     "end_time": "2021-06-21T10:04:51.734606",
     "exception": false,
     "start_time": "2021-06-21T10:04:51.668401",
     "status": "completed"
    },
    "tags": []
   },
   "outputs": [
    {
     "data": {
      "text/html": [
       "<div>\n",
       "<style scoped>\n",
       "    .dataframe tbody tr th:only-of-type {\n",
       "        vertical-align: middle;\n",
       "    }\n",
       "\n",
       "    .dataframe tbody tr th {\n",
       "        vertical-align: top;\n",
       "    }\n",
       "\n",
       "    .dataframe thead th {\n",
       "        text-align: right;\n",
       "    }\n",
       "</style>\n",
       "<table border=\"1\" class=\"dataframe\">\n",
       "  <thead>\n",
       "    <tr style=\"text-align: right;\">\n",
       "      <th></th>\n",
       "      <th>Date</th>\n",
       "      <th>Views_show</th>\n",
       "      <th>Visitors</th>\n",
       "      <th>Views_platform</th>\n",
       "      <th>Ad_impression</th>\n",
       "      <th>Cricket_match_india</th>\n",
       "      <th>Character_A</th>\n",
       "    </tr>\n",
       "  </thead>\n",
       "  <tbody>\n",
       "    <tr>\n",
       "      <th>0</th>\n",
       "      <td>3/1/2017</td>\n",
       "      <td>183738</td>\n",
       "      <td>1260228</td>\n",
       "      <td>1706478</td>\n",
       "      <td>1060860448</td>\n",
       "      <td>0</td>\n",
       "      <td>0</td>\n",
       "    </tr>\n",
       "    <tr>\n",
       "      <th>1</th>\n",
       "      <td>3/2/2017</td>\n",
       "      <td>193763</td>\n",
       "      <td>1270561</td>\n",
       "      <td>1690727</td>\n",
       "      <td>1031846645</td>\n",
       "      <td>0</td>\n",
       "      <td>0</td>\n",
       "    </tr>\n",
       "    <tr>\n",
       "      <th>2</th>\n",
       "      <td>3/3/2017</td>\n",
       "      <td>210479</td>\n",
       "      <td>1248183</td>\n",
       "      <td>1726157</td>\n",
       "      <td>1010867575</td>\n",
       "      <td>0</td>\n",
       "      <td>0</td>\n",
       "    </tr>\n",
       "    <tr>\n",
       "      <th>3</th>\n",
       "      <td>3/4/2017</td>\n",
       "      <td>240061</td>\n",
       "      <td>1492913</td>\n",
       "      <td>1855353</td>\n",
       "      <td>1079194579</td>\n",
       "      <td>1</td>\n",
       "      <td>0</td>\n",
       "    </tr>\n",
       "    <tr>\n",
       "      <th>4</th>\n",
       "      <td>3/5/2017</td>\n",
       "      <td>446314</td>\n",
       "      <td>1594712</td>\n",
       "      <td>2041418</td>\n",
       "      <td>1357736987</td>\n",
       "      <td>0</td>\n",
       "      <td>0</td>\n",
       "    </tr>\n",
       "  </tbody>\n",
       "</table>\n",
       "</div>"
      ],
      "text/plain": [
       "       Date  Views_show  Visitors  Views_platform  Ad_impression  \\\n",
       "0  3/1/2017      183738   1260228         1706478     1060860448   \n",
       "1  3/2/2017      193763   1270561         1690727     1031846645   \n",
       "2  3/3/2017      210479   1248183         1726157     1010867575   \n",
       "3  3/4/2017      240061   1492913         1855353     1079194579   \n",
       "4  3/5/2017      446314   1594712         2041418     1357736987   \n",
       "\n",
       "   Cricket_match_india  Character_A  \n",
       "0                    0            0  \n",
       "1                    0            0  \n",
       "2                    0            0  \n",
       "3                    1            0  \n",
       "4                    0            0  "
      ]
     },
     "execution_count": 3,
     "metadata": {},
     "output_type": "execute_result"
    }
   ],
   "source": [
    "#Let's explore the top 5 rows\n",
    "media.head()"
   ]
  },
  {
   "cell_type": "code",
   "execution_count": 4,
   "id": "extraordinary-topic",
   "metadata": {
    "execution": {
     "iopub.execute_input": "2021-06-21T10:04:51.832726Z",
     "iopub.status.busy": "2021-06-21T10:04:51.832083Z",
     "iopub.status.idle": "2021-06-21T10:04:51.849025Z",
     "shell.execute_reply": "2021-06-21T10:04:51.848450Z",
     "shell.execute_reply.started": "2021-06-21T10:04:19.293115Z"
    },
    "papermill": {
     "duration": 0.067124,
     "end_time": "2021-06-21T10:04:51.849183",
     "exception": false,
     "start_time": "2021-06-21T10:04:51.782059",
     "status": "completed"
    },
    "tags": []
   },
   "outputs": [],
   "source": [
    "# Converting date to Pandas datetime format\n",
    "media['Date'] = pd.to_datetime(media['Date'])"
   ]
  },
  {
   "cell_type": "code",
   "execution_count": 5,
   "id": "hollow-youth",
   "metadata": {
    "execution": {
     "iopub.execute_input": "2021-06-21T10:04:51.955447Z",
     "iopub.status.busy": "2021-06-21T10:04:51.954445Z",
     "iopub.status.idle": "2021-06-21T10:04:51.958457Z",
     "shell.execute_reply": "2021-06-21T10:04:51.957965Z",
     "shell.execute_reply.started": "2021-06-21T10:04:19.311711Z"
    },
    "papermill": {
     "duration": 0.061801,
     "end_time": "2021-06-21T10:04:51.958610",
     "exception": false,
     "start_time": "2021-06-21T10:04:51.896809",
     "status": "completed"
    },
    "tags": []
   },
   "outputs": [
    {
     "data": {
      "text/html": [
       "<div>\n",
       "<style scoped>\n",
       "    .dataframe tbody tr th:only-of-type {\n",
       "        vertical-align: middle;\n",
       "    }\n",
       "\n",
       "    .dataframe tbody tr th {\n",
       "        vertical-align: top;\n",
       "    }\n",
       "\n",
       "    .dataframe thead th {\n",
       "        text-align: right;\n",
       "    }\n",
       "</style>\n",
       "<table border=\"1\" class=\"dataframe\">\n",
       "  <thead>\n",
       "    <tr style=\"text-align: right;\">\n",
       "      <th></th>\n",
       "      <th>Date</th>\n",
       "      <th>Views_show</th>\n",
       "      <th>Visitors</th>\n",
       "      <th>Views_platform</th>\n",
       "      <th>Ad_impression</th>\n",
       "      <th>Cricket_match_india</th>\n",
       "      <th>Character_A</th>\n",
       "    </tr>\n",
       "  </thead>\n",
       "  <tbody>\n",
       "    <tr>\n",
       "      <th>0</th>\n",
       "      <td>2017-03-01</td>\n",
       "      <td>183738</td>\n",
       "      <td>1260228</td>\n",
       "      <td>1706478</td>\n",
       "      <td>1060860448</td>\n",
       "      <td>0</td>\n",
       "      <td>0</td>\n",
       "    </tr>\n",
       "    <tr>\n",
       "      <th>1</th>\n",
       "      <td>2017-03-02</td>\n",
       "      <td>193763</td>\n",
       "      <td>1270561</td>\n",
       "      <td>1690727</td>\n",
       "      <td>1031846645</td>\n",
       "      <td>0</td>\n",
       "      <td>0</td>\n",
       "    </tr>\n",
       "    <tr>\n",
       "      <th>2</th>\n",
       "      <td>2017-03-03</td>\n",
       "      <td>210479</td>\n",
       "      <td>1248183</td>\n",
       "      <td>1726157</td>\n",
       "      <td>1010867575</td>\n",
       "      <td>0</td>\n",
       "      <td>0</td>\n",
       "    </tr>\n",
       "    <tr>\n",
       "      <th>3</th>\n",
       "      <td>2017-03-04</td>\n",
       "      <td>240061</td>\n",
       "      <td>1492913</td>\n",
       "      <td>1855353</td>\n",
       "      <td>1079194579</td>\n",
       "      <td>1</td>\n",
       "      <td>0</td>\n",
       "    </tr>\n",
       "    <tr>\n",
       "      <th>4</th>\n",
       "      <td>2017-03-05</td>\n",
       "      <td>446314</td>\n",
       "      <td>1594712</td>\n",
       "      <td>2041418</td>\n",
       "      <td>1357736987</td>\n",
       "      <td>0</td>\n",
       "      <td>0</td>\n",
       "    </tr>\n",
       "  </tbody>\n",
       "</table>\n",
       "</div>"
      ],
      "text/plain": [
       "        Date  Views_show  Visitors  Views_platform  Ad_impression  \\\n",
       "0 2017-03-01      183738   1260228         1706478     1060860448   \n",
       "1 2017-03-02      193763   1270561         1690727     1031846645   \n",
       "2 2017-03-03      210479   1248183         1726157     1010867575   \n",
       "3 2017-03-04      240061   1492913         1855353     1079194579   \n",
       "4 2017-03-05      446314   1594712         2041418     1357736987   \n",
       "\n",
       "   Cricket_match_india  Character_A  \n",
       "0                    0            0  \n",
       "1                    0            0  \n",
       "2                    0            0  \n",
       "3                    1            0  \n",
       "4                    0            0  "
      ]
     },
     "execution_count": 5,
     "metadata": {},
     "output_type": "execute_result"
    }
   ],
   "source": [
    "media.head()"
   ]
  },
  {
   "cell_type": "code",
   "execution_count": 6,
   "id": "variable-necessity",
   "metadata": {
    "execution": {
     "iopub.execute_input": "2021-06-21T10:04:52.062818Z",
     "iopub.status.busy": "2021-06-21T10:04:52.062143Z",
     "iopub.status.idle": "2021-06-21T10:04:52.065235Z",
     "shell.execute_reply": "2021-06-21T10:04:52.064724Z",
     "shell.execute_reply.started": "2021-06-21T10:04:19.335869Z"
    },
    "papermill": {
     "duration": 0.057944,
     "end_time": "2021-06-21T10:04:52.065369",
     "exception": false,
     "start_time": "2021-06-21T10:04:52.007425",
     "status": "completed"
    },
    "tags": []
   },
   "outputs": [],
   "source": [
    "# Deriving \"days since the show started\"\n",
    "from datetime import date\n",
    "\n",
    "d0 = pd.to_datetime(\"2017-2-28\")\n",
    "d1 = media.Date\n",
    "delta = d1 - d0\n",
    "media['day']= delta"
   ]
  },
  {
   "cell_type": "code",
   "execution_count": 7,
   "id": "stretch-toolbox",
   "metadata": {
    "execution": {
     "iopub.execute_input": "2021-06-21T10:04:52.169633Z",
     "iopub.status.busy": "2021-06-21T10:04:52.168850Z",
     "iopub.status.idle": "2021-06-21T10:04:52.183030Z",
     "shell.execute_reply": "2021-06-21T10:04:52.183515Z",
     "shell.execute_reply.started": "2021-06-21T10:04:19.348669Z"
    },
    "papermill": {
     "duration": 0.070734,
     "end_time": "2021-06-21T10:04:52.183688",
     "exception": false,
     "start_time": "2021-06-21T10:04:52.112954",
     "status": "completed"
    },
    "tags": []
   },
   "outputs": [
    {
     "data": {
      "text/html": [
       "<div>\n",
       "<style scoped>\n",
       "    .dataframe tbody tr th:only-of-type {\n",
       "        vertical-align: middle;\n",
       "    }\n",
       "\n",
       "    .dataframe tbody tr th {\n",
       "        vertical-align: top;\n",
       "    }\n",
       "\n",
       "    .dataframe thead th {\n",
       "        text-align: right;\n",
       "    }\n",
       "</style>\n",
       "<table border=\"1\" class=\"dataframe\">\n",
       "  <thead>\n",
       "    <tr style=\"text-align: right;\">\n",
       "      <th></th>\n",
       "      <th>Date</th>\n",
       "      <th>Views_show</th>\n",
       "      <th>Visitors</th>\n",
       "      <th>Views_platform</th>\n",
       "      <th>Ad_impression</th>\n",
       "      <th>Cricket_match_india</th>\n",
       "      <th>Character_A</th>\n",
       "      <th>day</th>\n",
       "    </tr>\n",
       "  </thead>\n",
       "  <tbody>\n",
       "    <tr>\n",
       "      <th>0</th>\n",
       "      <td>2017-03-01</td>\n",
       "      <td>183738</td>\n",
       "      <td>1260228</td>\n",
       "      <td>1706478</td>\n",
       "      <td>1060860448</td>\n",
       "      <td>0</td>\n",
       "      <td>0</td>\n",
       "      <td>1 days</td>\n",
       "    </tr>\n",
       "    <tr>\n",
       "      <th>1</th>\n",
       "      <td>2017-03-02</td>\n",
       "      <td>193763</td>\n",
       "      <td>1270561</td>\n",
       "      <td>1690727</td>\n",
       "      <td>1031846645</td>\n",
       "      <td>0</td>\n",
       "      <td>0</td>\n",
       "      <td>2 days</td>\n",
       "    </tr>\n",
       "    <tr>\n",
       "      <th>2</th>\n",
       "      <td>2017-03-03</td>\n",
       "      <td>210479</td>\n",
       "      <td>1248183</td>\n",
       "      <td>1726157</td>\n",
       "      <td>1010867575</td>\n",
       "      <td>0</td>\n",
       "      <td>0</td>\n",
       "      <td>3 days</td>\n",
       "    </tr>\n",
       "    <tr>\n",
       "      <th>3</th>\n",
       "      <td>2017-03-04</td>\n",
       "      <td>240061</td>\n",
       "      <td>1492913</td>\n",
       "      <td>1855353</td>\n",
       "      <td>1079194579</td>\n",
       "      <td>1</td>\n",
       "      <td>0</td>\n",
       "      <td>4 days</td>\n",
       "    </tr>\n",
       "    <tr>\n",
       "      <th>4</th>\n",
       "      <td>2017-03-05</td>\n",
       "      <td>446314</td>\n",
       "      <td>1594712</td>\n",
       "      <td>2041418</td>\n",
       "      <td>1357736987</td>\n",
       "      <td>0</td>\n",
       "      <td>0</td>\n",
       "      <td>5 days</td>\n",
       "    </tr>\n",
       "  </tbody>\n",
       "</table>\n",
       "</div>"
      ],
      "text/plain": [
       "        Date  Views_show  Visitors  Views_platform  Ad_impression  \\\n",
       "0 2017-03-01      183738   1260228         1706478     1060860448   \n",
       "1 2017-03-02      193763   1270561         1690727     1031846645   \n",
       "2 2017-03-03      210479   1248183         1726157     1010867575   \n",
       "3 2017-03-04      240061   1492913         1855353     1079194579   \n",
       "4 2017-03-05      446314   1594712         2041418     1357736987   \n",
       "\n",
       "   Cricket_match_india  Character_A    day  \n",
       "0                    0            0 1 days  \n",
       "1                    0            0 2 days  \n",
       "2                    0            0 3 days  \n",
       "3                    1            0 4 days  \n",
       "4                    0            0 5 days  "
      ]
     },
     "execution_count": 7,
     "metadata": {},
     "output_type": "execute_result"
    }
   ],
   "source": [
    "media.head()"
   ]
  },
  {
   "cell_type": "code",
   "execution_count": 8,
   "id": "detailed-denmark",
   "metadata": {
    "execution": {
     "iopub.execute_input": "2021-06-21T10:04:52.287737Z",
     "iopub.status.busy": "2021-06-21T10:04:52.287157Z",
     "iopub.status.idle": "2021-06-21T10:04:52.297959Z",
     "shell.execute_reply": "2021-06-21T10:04:52.298534Z",
     "shell.execute_reply.started": "2021-06-21T10:04:19.369734Z"
    },
    "papermill": {
     "duration": 0.062021,
     "end_time": "2021-06-21T10:04:52.298708",
     "exception": false,
     "start_time": "2021-06-21T10:04:52.236687",
     "status": "completed"
    },
    "tags": []
   },
   "outputs": [],
   "source": [
    "# Cleaning days\n",
    "media['day'] = media['day'].astype(str)\n",
    "media['day'] = media['day'].map(lambda x: x[0:2])\n",
    "media['day'] = media['day'].astype(int)"
   ]
  },
  {
   "cell_type": "code",
   "execution_count": 9,
   "id": "logical-glass",
   "metadata": {
    "execution": {
     "iopub.execute_input": "2021-06-21T10:04:52.420410Z",
     "iopub.status.busy": "2021-06-21T10:04:52.419623Z",
     "iopub.status.idle": "2021-06-21T10:04:52.423477Z",
     "shell.execute_reply": "2021-06-21T10:04:52.422972Z",
     "shell.execute_reply.started": "2021-06-21T10:04:19.387477Z"
    },
    "papermill": {
     "duration": 0.067273,
     "end_time": "2021-06-21T10:04:52.423608",
     "exception": false,
     "start_time": "2021-06-21T10:04:52.356335",
     "status": "completed"
    },
    "tags": []
   },
   "outputs": [
    {
     "data": {
      "text/html": [
       "<div>\n",
       "<style scoped>\n",
       "    .dataframe tbody tr th:only-of-type {\n",
       "        vertical-align: middle;\n",
       "    }\n",
       "\n",
       "    .dataframe tbody tr th {\n",
       "        vertical-align: top;\n",
       "    }\n",
       "\n",
       "    .dataframe thead th {\n",
       "        text-align: right;\n",
       "    }\n",
       "</style>\n",
       "<table border=\"1\" class=\"dataframe\">\n",
       "  <thead>\n",
       "    <tr style=\"text-align: right;\">\n",
       "      <th></th>\n",
       "      <th>Date</th>\n",
       "      <th>Views_show</th>\n",
       "      <th>Visitors</th>\n",
       "      <th>Views_platform</th>\n",
       "      <th>Ad_impression</th>\n",
       "      <th>Cricket_match_india</th>\n",
       "      <th>Character_A</th>\n",
       "      <th>day</th>\n",
       "    </tr>\n",
       "  </thead>\n",
       "  <tbody>\n",
       "    <tr>\n",
       "      <th>0</th>\n",
       "      <td>2017-03-01</td>\n",
       "      <td>183738</td>\n",
       "      <td>1260228</td>\n",
       "      <td>1706478</td>\n",
       "      <td>1060860448</td>\n",
       "      <td>0</td>\n",
       "      <td>0</td>\n",
       "      <td>1</td>\n",
       "    </tr>\n",
       "    <tr>\n",
       "      <th>1</th>\n",
       "      <td>2017-03-02</td>\n",
       "      <td>193763</td>\n",
       "      <td>1270561</td>\n",
       "      <td>1690727</td>\n",
       "      <td>1031846645</td>\n",
       "      <td>0</td>\n",
       "      <td>0</td>\n",
       "      <td>2</td>\n",
       "    </tr>\n",
       "    <tr>\n",
       "      <th>2</th>\n",
       "      <td>2017-03-03</td>\n",
       "      <td>210479</td>\n",
       "      <td>1248183</td>\n",
       "      <td>1726157</td>\n",
       "      <td>1010867575</td>\n",
       "      <td>0</td>\n",
       "      <td>0</td>\n",
       "      <td>3</td>\n",
       "    </tr>\n",
       "    <tr>\n",
       "      <th>3</th>\n",
       "      <td>2017-03-04</td>\n",
       "      <td>240061</td>\n",
       "      <td>1492913</td>\n",
       "      <td>1855353</td>\n",
       "      <td>1079194579</td>\n",
       "      <td>1</td>\n",
       "      <td>0</td>\n",
       "      <td>4</td>\n",
       "    </tr>\n",
       "    <tr>\n",
       "      <th>4</th>\n",
       "      <td>2017-03-05</td>\n",
       "      <td>446314</td>\n",
       "      <td>1594712</td>\n",
       "      <td>2041418</td>\n",
       "      <td>1357736987</td>\n",
       "      <td>0</td>\n",
       "      <td>0</td>\n",
       "      <td>5</td>\n",
       "    </tr>\n",
       "  </tbody>\n",
       "</table>\n",
       "</div>"
      ],
      "text/plain": [
       "        Date  Views_show  Visitors  Views_platform  Ad_impression  \\\n",
       "0 2017-03-01      183738   1260228         1706478     1060860448   \n",
       "1 2017-03-02      193763   1270561         1690727     1031846645   \n",
       "2 2017-03-03      210479   1248183         1726157     1010867575   \n",
       "3 2017-03-04      240061   1492913         1855353     1079194579   \n",
       "4 2017-03-05      446314   1594712         2041418     1357736987   \n",
       "\n",
       "   Cricket_match_india  Character_A  day  \n",
       "0                    0            0    1  \n",
       "1                    0            0    2  \n",
       "2                    0            0    3  \n",
       "3                    1            0    4  \n",
       "4                    0            0    5  "
      ]
     },
     "execution_count": 9,
     "metadata": {},
     "output_type": "execute_result"
    }
   ],
   "source": [
    "media.head()"
   ]
  },
  {
   "cell_type": "code",
   "execution_count": 10,
   "id": "placed-hundred",
   "metadata": {
    "execution": {
     "iopub.execute_input": "2021-06-21T10:04:52.530917Z",
     "iopub.status.busy": "2021-06-21T10:04:52.530156Z",
     "iopub.status.idle": "2021-06-21T10:04:52.747931Z",
     "shell.execute_reply": "2021-06-21T10:04:52.748430Z",
     "shell.execute_reply.started": "2021-06-21T10:04:19.409897Z"
    },
    "papermill": {
     "duration": 0.275713,
     "end_time": "2021-06-21T10:04:52.748594",
     "exception": false,
     "start_time": "2021-06-21T10:04:52.472881",
     "status": "completed"
    },
    "tags": []
   },
   "outputs": [
    {
     "data": {
      "text/plain": [
       "<AxesSubplot:xlabel='day'>"
      ]
     },
     "execution_count": 10,
     "metadata": {},
     "output_type": "execute_result"
    },
    {
     "data": {
      "image/png": "[encoded data removed]",
      "text/plain": [
       "<Figure size 432x288 with 1 Axes>"
      ]
     },
     "metadata": {
      "needs_background": "light"
     },
     "output_type": "display_data"
    }
   ],
   "source": [
    "# days vs Views_show\n",
    "media.plot.line(x='day', y='Views_show')"
   ]
  },
  {
   "cell_type": "code",
   "execution_count": 11,
   "id": "electoral-debate",
   "metadata": {
    "execution": {
     "iopub.execute_input": "2021-06-21T10:04:52.853894Z",
     "iopub.status.busy": "2021-06-21T10:04:52.853260Z",
     "iopub.status.idle": "2021-06-21T10:04:53.023221Z",
     "shell.execute_reply": "2021-06-21T10:04:53.023657Z",
     "shell.execute_reply.started": "2021-06-21T10:04:19.613257Z"
    },
    "papermill": {
     "duration": 0.224865,
     "end_time": "2021-06-21T10:04:53.023848",
     "exception": false,
     "start_time": "2021-06-21T10:04:52.798983",
     "status": "completed"
    },
    "tags": []
   },
   "outputs": [
    {
     "data": {
      "image/png": "[encoded data removed]",
      "text/plain": [
       "<Figure size 432x288 with 1 Axes>"
      ]
     },
     "metadata": {
      "needs_background": "light"
     },
     "output_type": "display_data"
    }
   ],
   "source": [
    "# Scatter Plot (days vs Views_show)\n",
    "colors = (0,0,0)\n",
    "area = np.pi*3\n",
    "plt.scatter(media.day, media.Views_show, s=area, c=colors, alpha=0.5)\n",
    "plt.title('Scatter plot pythonspot.com')\n",
    "plt.xlabel('x')\n",
    "plt.ylabel('y')\n",
    "plt.show()"
   ]
  },
  {
   "cell_type": "code",
   "execution_count": 12,
   "id": "angry-edition",
   "metadata": {
    "execution": {
     "iopub.execute_input": "2021-06-21T10:04:53.130157Z",
     "iopub.status.busy": "2021-06-21T10:04:53.129248Z",
     "iopub.status.idle": "2021-06-21T10:04:53.615337Z",
     "shell.execute_reply": "2021-06-21T10:04:53.614708Z",
     "shell.execute_reply.started": "2021-06-21T10:04:19.775540Z"
    },
    "papermill": {
     "duration": 0.54025,
     "end_time": "2021-06-21T10:04:53.615478",
     "exception": false,
     "start_time": "2021-06-21T10:04:53.075228",
     "status": "completed"
    },
    "tags": []
   },
   "outputs": [
    {
     "data": {
      "image/png": "[encoded data removed]",
      "text/plain": [
       "<Figure size 432x288 with 3 Axes>"
      ]
     },
     "metadata": {
      "needs_background": "light"
     },
     "output_type": "display_data"
    }
   ],
   "source": [
    "# plot for days vs Views_show and days vs Ad_impressions\n",
    "\n",
    "fig = plt.figure()\n",
    "host = fig.add_subplot(111)\n",
    "\n",
    "par1 = host.twinx()\n",
    "par2 = host.twinx()\n",
    "\n",
    "host.set_xlabel(\"Day\")\n",
    "host.set_ylabel(\"View_Show\")\n",
    "par1.set_ylabel(\"Ad_impression\")\n",
    "\n",
    "color1 = plt.cm.viridis(0)\n",
    "color2 = plt.cm.viridis(0.5)\n",
    "color3 = plt.cm.viridis(.9)\n",
    "\n",
    "p1, = host.plot(media.day,media.Views_show, color=color1,label=\"View_Show\")\n",
    "p2, = par1.plot(media.day,media.Ad_impression,color=color2, label=\"Ad_impression\")\n",
    "\n",
    "lns = [p1, p2]\n",
    "host.legend(handles=lns, loc='best')\n",
    "\n",
    "# right, left, top, bottom\n",
    "par2.spines['right'].set_position(('outward', 60))      \n",
    "# no x-ticks                 \n",
    "par2.xaxis.set_ticks([])\n",
    "# Sometimes handy, same for xaxis\n",
    "#par2.yaxis.set_ticks_position('right')\n",
    "\n",
    "host.yaxis.label.set_color(p1.get_color())\n",
    "par1.yaxis.label.set_color(p2.get_color())\n",
    "\n",
    "plt.savefig(\"pyplot_multiple_y-axis.png\", bbox_inches='tight')"
   ]
  },
  {
   "cell_type": "code",
   "execution_count": 13,
   "id": "blank-logic",
   "metadata": {
    "execution": {
     "iopub.execute_input": "2021-06-21T10:04:53.726144Z",
     "iopub.status.busy": "2021-06-21T10:04:53.725511Z",
     "iopub.status.idle": "2021-06-21T10:04:53.752144Z",
     "shell.execute_reply": "2021-06-21T10:04:53.751496Z",
     "shell.execute_reply.started": "2021-06-21T10:04:20.215739Z"
    },
    "papermill": {
     "duration": 0.084568,
     "end_time": "2021-06-21T10:04:53.752278",
     "exception": false,
     "start_time": "2021-06-21T10:04:53.667710",
     "status": "completed"
    },
    "tags": []
   },
   "outputs": [
    {
     "data": {
      "text/html": [
       "<div>\n",
       "<style scoped>\n",
       "    .dataframe tbody tr th:only-of-type {\n",
       "        vertical-align: middle;\n",
       "    }\n",
       "\n",
       "    .dataframe tbody tr th {\n",
       "        vertical-align: top;\n",
       "    }\n",
       "\n",
       "    .dataframe thead th {\n",
       "        text-align: right;\n",
       "    }\n",
       "</style>\n",
       "<table border=\"1\" class=\"dataframe\">\n",
       "  <thead>\n",
       "    <tr style=\"text-align: right;\">\n",
       "      <th></th>\n",
       "      <th>Date</th>\n",
       "      <th>Views_show</th>\n",
       "      <th>Visitors</th>\n",
       "      <th>Views_platform</th>\n",
       "      <th>Ad_impression</th>\n",
       "      <th>Cricket_match_india</th>\n",
       "      <th>Character_A</th>\n",
       "      <th>day</th>\n",
       "      <th>weekday</th>\n",
       "    </tr>\n",
       "  </thead>\n",
       "  <tbody>\n",
       "    <tr>\n",
       "      <th>0</th>\n",
       "      <td>2017-03-01</td>\n",
       "      <td>183738</td>\n",
       "      <td>1260228</td>\n",
       "      <td>1706478</td>\n",
       "      <td>1060860448</td>\n",
       "      <td>0</td>\n",
       "      <td>0</td>\n",
       "      <td>1</td>\n",
       "      <td>4</td>\n",
       "    </tr>\n",
       "    <tr>\n",
       "      <th>1</th>\n",
       "      <td>2017-03-02</td>\n",
       "      <td>193763</td>\n",
       "      <td>1270561</td>\n",
       "      <td>1690727</td>\n",
       "      <td>1031846645</td>\n",
       "      <td>0</td>\n",
       "      <td>0</td>\n",
       "      <td>2</td>\n",
       "      <td>5</td>\n",
       "    </tr>\n",
       "    <tr>\n",
       "      <th>2</th>\n",
       "      <td>2017-03-03</td>\n",
       "      <td>210479</td>\n",
       "      <td>1248183</td>\n",
       "      <td>1726157</td>\n",
       "      <td>1010867575</td>\n",
       "      <td>0</td>\n",
       "      <td>0</td>\n",
       "      <td>3</td>\n",
       "      <td>6</td>\n",
       "    </tr>\n",
       "    <tr>\n",
       "      <th>3</th>\n",
       "      <td>2017-03-04</td>\n",
       "      <td>240061</td>\n",
       "      <td>1492913</td>\n",
       "      <td>1855353</td>\n",
       "      <td>1079194579</td>\n",
       "      <td>1</td>\n",
       "      <td>0</td>\n",
       "      <td>4</td>\n",
       "      <td>7</td>\n",
       "    </tr>\n",
       "    <tr>\n",
       "      <th>4</th>\n",
       "      <td>2017-03-05</td>\n",
       "      <td>446314</td>\n",
       "      <td>1594712</td>\n",
       "      <td>2041418</td>\n",
       "      <td>1357736987</td>\n",
       "      <td>0</td>\n",
       "      <td>0</td>\n",
       "      <td>5</td>\n",
       "      <td>1</td>\n",
       "    </tr>\n",
       "  </tbody>\n",
       "</table>\n",
       "</div>"
      ],
      "text/plain": [
       "        Date  Views_show  Visitors  Views_platform  Ad_impression  \\\n",
       "0 2017-03-01      183738   1260228         1706478     1060860448   \n",
       "1 2017-03-02      193763   1270561         1690727     1031846645   \n",
       "2 2017-03-03      210479   1248183         1726157     1010867575   \n",
       "3 2017-03-04      240061   1492913         1855353     1079194579   \n",
       "4 2017-03-05      446314   1594712         2041418     1357736987   \n",
       "\n",
       "   Cricket_match_india  Character_A  day  weekday  \n",
       "0                    0            0    1        4  \n",
       "1                    0            0    2        5  \n",
       "2                    0            0    3        6  \n",
       "3                    1            0    4        7  \n",
       "4                    0            0    5        1  "
      ]
     },
     "execution_count": 13,
     "metadata": {},
     "output_type": "execute_result"
    }
   ],
   "source": [
    "# Derived Metrics\n",
    "# Weekdays are taken such that 1 corresponds to Sunday and 7 to Saturday\n",
    "# Generate the weekday variable\n",
    "media['weekday'] = (media['day']+3)%7\n",
    "media.weekday.replace(0,7, inplace=True)\n",
    "media['weekday'] = media['weekday'].astype(int)\n",
    "media.head()"
   ]
  },
  {
   "cell_type": "markdown",
   "id": "hairy-security",
   "metadata": {
    "papermill": {
     "duration": 0.052873,
     "end_time": "2021-06-21T10:04:53.857554",
     "exception": false,
     "start_time": "2021-06-21T10:04:53.804681",
     "status": "completed"
    },
    "tags": []
   },
   "source": [
    "#### Running first model (lm1) Weekday & visitors "
   ]
  },
  {
   "cell_type": "code",
   "execution_count": 14,
   "id": "foreign-column",
   "metadata": {
    "execution": {
     "iopub.execute_input": "2021-06-21T10:04:53.971185Z",
     "iopub.status.busy": "2021-06-21T10:04:53.970532Z",
     "iopub.status.idle": "2021-06-21T10:04:53.974001Z",
     "shell.execute_reply": "2021-06-21T10:04:53.973380Z",
     "shell.execute_reply.started": "2021-06-21T10:04:20.248365Z"
    },
    "papermill": {
     "duration": 0.063594,
     "end_time": "2021-06-21T10:04:53.974162",
     "exception": false,
     "start_time": "2021-06-21T10:04:53.910568",
     "status": "completed"
    },
    "tags": []
   },
   "outputs": [],
   "source": [
    "# Putting feature variable to X\n",
    "X = media[['Visitors','weekday']]\n",
    "\n",
    "# Putting response variable to y\n",
    "y = media['Views_show']"
   ]
  },
  {
   "cell_type": "code",
   "execution_count": 15,
   "id": "impressive-treaty",
   "metadata": {
    "execution": {
     "iopub.execute_input": "2021-06-21T10:04:54.084956Z",
     "iopub.status.busy": "2021-06-21T10:04:54.084327Z",
     "iopub.status.idle": "2021-06-21T10:04:54.382804Z",
     "shell.execute_reply": "2021-06-21T10:04:54.381783Z",
     "shell.execute_reply.started": "2021-06-21T10:04:20.255924Z"
    },
    "papermill": {
     "duration": 0.355832,
     "end_time": "2021-06-21T10:04:54.382961",
     "exception": false,
     "start_time": "2021-06-21T10:04:54.027129",
     "status": "completed"
    },
    "tags": []
   },
   "outputs": [],
   "source": [
    "from sklearn.linear_model import LinearRegression"
   ]
  },
  {
   "cell_type": "code",
   "execution_count": 16,
   "id": "catholic-franchise",
   "metadata": {
    "execution": {
     "iopub.execute_input": "2021-06-21T10:04:54.494404Z",
     "iopub.status.busy": "2021-06-21T10:04:54.493844Z",
     "iopub.status.idle": "2021-06-21T10:04:54.496813Z",
     "shell.execute_reply": "2021-06-21T10:04:54.496317Z",
     "shell.execute_reply.started": "2021-06-21T10:04:20.598504Z"
    },
    "papermill": {
     "duration": 0.06034,
     "end_time": "2021-06-21T10:04:54.496941",
     "exception": false,
     "start_time": "2021-06-21T10:04:54.436601",
     "status": "completed"
    },
    "tags": []
   },
   "outputs": [],
   "source": [
    "# Representing LinearRegression as lr(Creating LinearRegression Object)\n",
    "lm = LinearRegression()"
   ]
  },
  {
   "cell_type": "code",
   "execution_count": 17,
   "id": "sensitive-crossing",
   "metadata": {
    "execution": {
     "iopub.execute_input": "2021-06-21T10:04:54.623036Z",
     "iopub.status.busy": "2021-06-21T10:04:54.622395Z",
     "iopub.status.idle": "2021-06-21T10:04:54.628791Z",
     "shell.execute_reply": "2021-06-21T10:04:54.628144Z",
     "shell.execute_reply.started": "2021-06-21T10:04:20.604124Z"
    },
    "papermill": {
     "duration": 0.078324,
     "end_time": "2021-06-21T10:04:54.628925",
     "exception": false,
     "start_time": "2021-06-21T10:04:54.550601",
     "status": "completed"
    },
    "tags": []
   },
   "outputs": [
    {
     "data": {
      "text/plain": [
       "LinearRegression()"
      ]
     },
     "execution_count": 17,
     "metadata": {},
     "output_type": "execute_result"
    }
   ],
   "source": [
    "# fit the model to the training data\n",
    "lm.fit(X,y)"
   ]
  },
  {
   "cell_type": "code",
   "execution_count": 18,
   "id": "bizarre-yugoslavia",
   "metadata": {
    "execution": {
     "iopub.execute_input": "2021-06-21T10:04:54.742647Z",
     "iopub.status.busy": "2021-06-21T10:04:54.742044Z",
     "iopub.status.idle": "2021-06-21T10:04:55.524756Z",
     "shell.execute_reply": "2021-06-21T10:04:55.524047Z",
     "shell.execute_reply.started": "2021-06-21T10:04:20.640535Z"
    },
    "papermill": {
     "duration": 0.842014,
     "end_time": "2021-06-21T10:04:55.524894",
     "exception": false,
     "start_time": "2021-06-21T10:04:54.682880",
     "status": "completed"
    },
    "tags": []
   },
   "outputs": [
    {
     "name": "stdout",
     "output_type": "stream",
     "text": [
      "                            OLS Regression Results                            \n",
      "==============================================================================\n",
      "Dep. Variable:             Views_show   R-squared:                       0.485\n",
      "Model:                            OLS   Adj. R-squared:                  0.472\n",
      "Method:                 Least Squares   F-statistic:                     36.26\n",
      "Date:                Mon, 21 Jun 2021   Prob (F-statistic):           8.01e-12\n",
      "Time:                        10:04:55   Log-Likelihood:                -1042.5\n",
      "No. Observations:                  80   AIC:                             2091.\n",
      "Df Residuals:                      77   BIC:                             2098.\n",
      "Df Model:                           2                                         \n",
      "Covariance Type:            nonrobust                                         \n",
      "==============================================================================\n",
      "                 coef    std err          t      P>|t|      [0.025      0.975]\n",
      "------------------------------------------------------------------------------\n",
      "const      -3.862e+04   1.07e+05     -0.360      0.720   -2.52e+05    1.75e+05\n",
      "Visitors       0.2787      0.057      4.911      0.000       0.166       0.392\n",
      "weekday    -3.591e+04   6591.205     -5.448      0.000    -4.9e+04   -2.28e+04\n",
      "==============================================================================\n",
      "Omnibus:                        2.684   Durbin-Watson:                   0.650\n",
      "Prob(Omnibus):                  0.261   Jarque-Bera (JB):                2.653\n",
      "Skew:                           0.423   Prob(JB):                        0.265\n",
      "Kurtosis:                       2.718   Cond. No.                     1.46e+07\n",
      "==============================================================================\n",
      "\n",
      "Notes:\n",
      "[1] Standard Errors assume that the covariance matrix of the errors is correctly specified.\n",
      "[2] The condition number is large, 1.46e+07. This might indicate that there are\n",
      "strong multicollinearity or other numerical problems.\n"
     ]
    }
   ],
   "source": [
    "import statsmodels.api as sm\n",
    "#Unlike SKLearn, statsmodels don't automatically fit a constant, \n",
    "#so you need to use the method sm.add_constant(X) in order to add a constant. \n",
    "X = sm.add_constant(X)\n",
    "# create a fitted model in one line\n",
    "lm_1 = sm.OLS(y,X).fit()\n",
    "print(lm_1.summary())"
   ]
  },
  {
   "cell_type": "code",
   "execution_count": 19,
   "id": "related-philosophy",
   "metadata": {
    "execution": {
     "iopub.execute_input": "2021-06-21T10:04:55.641521Z",
     "iopub.status.busy": "2021-06-21T10:04:55.640785Z",
     "iopub.status.idle": "2021-06-21T10:04:55.643479Z",
     "shell.execute_reply": "2021-06-21T10:04:55.643006Z",
     "shell.execute_reply.started": "2021-06-21T10:04:21.487329Z"
    },
    "papermill": {
     "duration": 0.064589,
     "end_time": "2021-06-21T10:04:55.643620",
     "exception": false,
     "start_time": "2021-06-21T10:04:55.579031",
     "status": "completed"
    },
    "tags": []
   },
   "outputs": [],
   "source": [
    "# create Weekend variable, with value 1 at weekends and 0 at weekdays\n",
    "def cond(i):\n",
    "    if i % 7 == 5: return 1\n",
    "    elif i % 7 == 4: return 1\n",
    "    else :return 0\n",
    "    return i\n",
    "\n",
    "media['weekend']=[cond(i) for i in media['day']]"
   ]
  },
  {
   "cell_type": "code",
   "execution_count": 20,
   "id": "electric-refrigerator",
   "metadata": {
    "execution": {
     "iopub.execute_input": "2021-06-21T10:04:55.764134Z",
     "iopub.status.busy": "2021-06-21T10:04:55.763455Z",
     "iopub.status.idle": "2021-06-21T10:04:55.768270Z",
     "shell.execute_reply": "2021-06-21T10:04:55.767588Z",
     "shell.execute_reply.started": "2021-06-21T10:04:21.497706Z"
    },
    "papermill": {
     "duration": 0.070872,
     "end_time": "2021-06-21T10:04:55.768404",
     "exception": false,
     "start_time": "2021-06-21T10:04:55.697532",
     "status": "completed"
    },
    "tags": []
   },
   "outputs": [
    {
     "data": {
      "text/html": [
       "<div>\n",
       "<style scoped>\n",
       "    .dataframe tbody tr th:only-of-type {\n",
       "        vertical-align: middle;\n",
       "    }\n",
       "\n",
       "    .dataframe tbody tr th {\n",
       "        vertical-align: top;\n",
       "    }\n",
       "\n",
       "    .dataframe thead th {\n",
       "        text-align: right;\n",
       "    }\n",
       "</style>\n",
       "<table border=\"1\" class=\"dataframe\">\n",
       "  <thead>\n",
       "    <tr style=\"text-align: right;\">\n",
       "      <th></th>\n",
       "      <th>Date</th>\n",
       "      <th>Views_show</th>\n",
       "      <th>Visitors</th>\n",
       "      <th>Views_platform</th>\n",
       "      <th>Ad_impression</th>\n",
       "      <th>Cricket_match_india</th>\n",
       "      <th>Character_A</th>\n",
       "      <th>day</th>\n",
       "      <th>weekday</th>\n",
       "      <th>weekend</th>\n",
       "    </tr>\n",
       "  </thead>\n",
       "  <tbody>\n",
       "    <tr>\n",
       "      <th>0</th>\n",
       "      <td>2017-03-01</td>\n",
       "      <td>183738</td>\n",
       "      <td>1260228</td>\n",
       "      <td>1706478</td>\n",
       "      <td>1060860448</td>\n",
       "      <td>0</td>\n",
       "      <td>0</td>\n",
       "      <td>1</td>\n",
       "      <td>4</td>\n",
       "      <td>0</td>\n",
       "    </tr>\n",
       "    <tr>\n",
       "      <th>1</th>\n",
       "      <td>2017-03-02</td>\n",
       "      <td>193763</td>\n",
       "      <td>1270561</td>\n",
       "      <td>1690727</td>\n",
       "      <td>1031846645</td>\n",
       "      <td>0</td>\n",
       "      <td>0</td>\n",
       "      <td>2</td>\n",
       "      <td>5</td>\n",
       "      <td>0</td>\n",
       "    </tr>\n",
       "    <tr>\n",
       "      <th>2</th>\n",
       "      <td>2017-03-03</td>\n",
       "      <td>210479</td>\n",
       "      <td>1248183</td>\n",
       "      <td>1726157</td>\n",
       "      <td>1010867575</td>\n",
       "      <td>0</td>\n",
       "      <td>0</td>\n",
       "      <td>3</td>\n",
       "      <td>6</td>\n",
       "      <td>0</td>\n",
       "    </tr>\n",
       "    <tr>\n",
       "      <th>3</th>\n",
       "      <td>2017-03-04</td>\n",
       "      <td>240061</td>\n",
       "      <td>1492913</td>\n",
       "      <td>1855353</td>\n",
       "      <td>1079194579</td>\n",
       "      <td>1</td>\n",
       "      <td>0</td>\n",
       "      <td>4</td>\n",
       "      <td>7</td>\n",
       "      <td>1</td>\n",
       "    </tr>\n",
       "    <tr>\n",
       "      <th>4</th>\n",
       "      <td>2017-03-05</td>\n",
       "      <td>446314</td>\n",
       "      <td>1594712</td>\n",
       "      <td>2041418</td>\n",
       "      <td>1357736987</td>\n",
       "      <td>0</td>\n",
       "      <td>0</td>\n",
       "      <td>5</td>\n",
       "      <td>1</td>\n",
       "      <td>1</td>\n",
       "    </tr>\n",
       "  </tbody>\n",
       "</table>\n",
       "</div>"
      ],
      "text/plain": [
       "        Date  Views_show  Visitors  Views_platform  Ad_impression  \\\n",
       "0 2017-03-01      183738   1260228         1706478     1060860448   \n",
       "1 2017-03-02      193763   1270561         1690727     1031846645   \n",
       "2 2017-03-03      210479   1248183         1726157     1010867575   \n",
       "3 2017-03-04      240061   1492913         1855353     1079194579   \n",
       "4 2017-03-05      446314   1594712         2041418     1357736987   \n",
       "\n",
       "   Cricket_match_india  Character_A  day  weekday  weekend  \n",
       "0                    0            0    1        4        0  \n",
       "1                    0            0    2        5        0  \n",
       "2                    0            0    3        6        0  \n",
       "3                    1            0    4        7        1  \n",
       "4                    0            0    5        1        1  "
      ]
     },
     "execution_count": 20,
     "metadata": {},
     "output_type": "execute_result"
    }
   ],
   "source": [
    "media.head()\n"
   ]
  },
  {
   "cell_type": "markdown",
   "id": "seasonal-deficit",
   "metadata": {
    "papermill": {
     "duration": 0.054265,
     "end_time": "2021-06-21T10:04:55.876964",
     "exception": false,
     "start_time": "2021-06-21T10:04:55.822699",
     "status": "completed"
    },
    "tags": []
   },
   "source": [
    "#### Running second model (lm2) visitors & weekend"
   ]
  },
  {
   "cell_type": "code",
   "execution_count": 21,
   "id": "unsigned-pattern",
   "metadata": {
    "execution": {
     "iopub.execute_input": "2021-06-21T10:04:55.993350Z",
     "iopub.status.busy": "2021-06-21T10:04:55.992530Z",
     "iopub.status.idle": "2021-06-21T10:04:55.995456Z",
     "shell.execute_reply": "2021-06-21T10:04:55.994880Z",
     "shell.execute_reply.started": "2021-06-21T10:04:21.517056Z"
    },
    "papermill": {
     "duration": 0.063226,
     "end_time": "2021-06-21T10:04:55.995621",
     "exception": false,
     "start_time": "2021-06-21T10:04:55.932395",
     "status": "completed"
    },
    "tags": []
   },
   "outputs": [],
   "source": [
    "# Putting feature variable to X\n",
    "X = media[['Visitors','weekend']]\n",
    "\n",
    "# Putting response variable to y\n",
    "y = media['Views_show']"
   ]
  },
  {
   "cell_type": "code",
   "execution_count": 22,
   "id": "productive-snapshot",
   "metadata": {
    "execution": {
     "iopub.execute_input": "2021-06-21T10:04:56.113949Z",
     "iopub.status.busy": "2021-06-21T10:04:56.113150Z",
     "iopub.status.idle": "2021-06-21T10:04:56.126423Z",
     "shell.execute_reply": "2021-06-21T10:04:56.125952Z",
     "shell.execute_reply.started": "2021-06-21T10:04:21.524438Z"
    },
    "papermill": {
     "duration": 0.076459,
     "end_time": "2021-06-21T10:04:56.126556",
     "exception": false,
     "start_time": "2021-06-21T10:04:56.050097",
     "status": "completed"
    },
    "tags": []
   },
   "outputs": [
    {
     "name": "stdout",
     "output_type": "stream",
     "text": [
      "                            OLS Regression Results                            \n",
      "==============================================================================\n",
      "Dep. Variable:             Views_show   R-squared:                       0.500\n",
      "Model:                            OLS   Adj. R-squared:                  0.487\n",
      "Method:                 Least Squares   F-statistic:                     38.55\n",
      "Date:                Mon, 21 Jun 2021   Prob (F-statistic):           2.51e-12\n",
      "Time:                        10:04:56   Log-Likelihood:                -1041.3\n",
      "No. Observations:                  80   AIC:                             2089.\n",
      "Df Residuals:                      77   BIC:                             2096.\n",
      "Df Model:                           2                                         \n",
      "Covariance Type:            nonrobust                                         \n",
      "==============================================================================\n",
      "                 coef    std err          t      P>|t|      [0.025      0.975]\n",
      "------------------------------------------------------------------------------\n",
      "const      -8.833e+04   1.01e+05     -0.875      0.384   -2.89e+05    1.13e+05\n",
      "Visitors       0.1934      0.061      3.160      0.002       0.071       0.315\n",
      "weekend     1.807e+05   3.15e+04      5.740      0.000    1.18e+05    2.43e+05\n",
      "==============================================================================\n",
      "Omnibus:                        1.302   Durbin-Watson:                   1.254\n",
      "Prob(Omnibus):                  0.521   Jarque-Bera (JB):                1.367\n",
      "Skew:                           0.270   Prob(JB):                        0.505\n",
      "Kurtosis:                       2.656   Cond. No.                     1.41e+07\n",
      "==============================================================================\n",
      "\n",
      "Notes:\n",
      "[1] Standard Errors assume that the covariance matrix of the errors is correctly specified.\n",
      "[2] The condition number is large, 1.41e+07. This might indicate that there are\n",
      "strong multicollinearity or other numerical problems.\n"
     ]
    }
   ],
   "source": [
    "import statsmodels.api as sm\n",
    "#Unlike SKLearn, statsmodels don't automatically fit a constant, \n",
    "#so you need to use the method sm.add_constant(X) in order to add a constant. \n",
    "X = sm.add_constant(X)\n",
    "# create a fitted model in one line\n",
    "lm_2 = sm.OLS(y,X).fit()\n",
    "print(lm_2.summary())"
   ]
  },
  {
   "cell_type": "markdown",
   "id": "liable-broadway",
   "metadata": {
    "papermill": {
     "duration": 0.056218,
     "end_time": "2021-06-21T10:04:56.239147",
     "exception": false,
     "start_time": "2021-06-21T10:04:56.182929",
     "status": "completed"
    },
    "tags": []
   },
   "source": [
    "#### Running third model (lm3) visitors, weekend & Character_A"
   ]
  },
  {
   "cell_type": "code",
   "execution_count": 23,
   "id": "graphic-vocabulary",
   "metadata": {
    "execution": {
     "iopub.execute_input": "2021-06-21T10:04:56.357556Z",
     "iopub.status.busy": "2021-06-21T10:04:56.356712Z",
     "iopub.status.idle": "2021-06-21T10:04:56.358988Z",
     "shell.execute_reply": "2021-06-21T10:04:56.359448Z",
     "shell.execute_reply.started": "2021-06-21T10:04:21.554376Z"
    },
    "papermill": {
     "duration": 0.06434,
     "end_time": "2021-06-21T10:04:56.359613",
     "exception": false,
     "start_time": "2021-06-21T10:04:56.295273",
     "status": "completed"
    },
    "tags": []
   },
   "outputs": [],
   "source": [
    "# Putting feature variable to X\n",
    "X = media[['Visitors','weekend','Character_A']]\n",
    "\n",
    "# Putting response variable to y\n",
    "y = media['Views_show']"
   ]
  },
  {
   "cell_type": "code",
   "execution_count": 24,
   "id": "filled-estonia",
   "metadata": {
    "execution": {
     "iopub.execute_input": "2021-06-21T10:04:56.478493Z",
     "iopub.status.busy": "2021-06-21T10:04:56.477860Z",
     "iopub.status.idle": "2021-06-21T10:04:56.491078Z",
     "shell.execute_reply": "2021-06-21T10:04:56.490262Z",
     "shell.execute_reply.started": "2021-06-21T10:04:21.561519Z"
    },
    "papermill": {
     "duration": 0.076103,
     "end_time": "2021-06-21T10:04:56.491265",
     "exception": false,
     "start_time": "2021-06-21T10:04:56.415162",
     "status": "completed"
    },
    "tags": []
   },
   "outputs": [
    {
     "name": "stdout",
     "output_type": "stream",
     "text": [
      "                            OLS Regression Results                            \n",
      "==============================================================================\n",
      "Dep. Variable:             Views_show   R-squared:                       0.586\n",
      "Model:                            OLS   Adj. R-squared:                  0.570\n",
      "Method:                 Least Squares   F-statistic:                     35.84\n",
      "Date:                Mon, 21 Jun 2021   Prob (F-statistic):           1.53e-14\n",
      "Time:                        10:04:56   Log-Likelihood:                -1033.8\n",
      "No. Observations:                  80   AIC:                             2076.\n",
      "Df Residuals:                      76   BIC:                             2085.\n",
      "Df Model:                           3                                         \n",
      "Covariance Type:            nonrobust                                         \n",
      "===============================================================================\n",
      "                  coef    std err          t      P>|t|      [0.025      0.975]\n",
      "-------------------------------------------------------------------------------\n",
      "const       -4.722e+04   9.31e+04     -0.507      0.613   -2.33e+05    1.38e+05\n",
      "Visitors        0.1480      0.057      2.586      0.012       0.034       0.262\n",
      "weekend      1.812e+05   2.89e+04      6.281      0.000    1.24e+05    2.39e+05\n",
      "Character_A  9.542e+04   2.41e+04      3.963      0.000    4.75e+04    1.43e+05\n",
      "==============================================================================\n",
      "Omnibus:                        0.908   Durbin-Watson:                   1.600\n",
      "Prob(Omnibus):                  0.635   Jarque-Bera (JB):                0.876\n",
      "Skew:                          -0.009   Prob(JB):                        0.645\n",
      "Kurtosis:                       2.488   Cond. No.                     1.42e+07\n",
      "==============================================================================\n",
      "\n",
      "Notes:\n",
      "[1] Standard Errors assume that the covariance matrix of the errors is correctly specified.\n",
      "[2] The condition number is large, 1.42e+07. This might indicate that there are\n",
      "strong multicollinearity or other numerical problems.\n"
     ]
    }
   ],
   "source": [
    "import statsmodels.api as sm\n",
    "#Unlike SKLearn, statsmodels don't automatically fit a constant, \n",
    "#so you need to use the method sm.add_constant(X) in order to add a constant. \n",
    "X = sm.add_constant(X)\n",
    "# create a fitted model in one line\n",
    "lm_3 = sm.OLS(y,X).fit()\n",
    "print(lm_3.summary())"
   ]
  },
  {
   "cell_type": "code",
   "execution_count": 25,
   "id": "obvious-county",
   "metadata": {
    "execution": {
     "iopub.execute_input": "2021-06-21T10:04:56.609931Z",
     "iopub.status.busy": "2021-06-21T10:04:56.608957Z",
     "iopub.status.idle": "2021-06-21T10:04:56.612090Z",
     "shell.execute_reply": "2021-06-21T10:04:56.611446Z",
     "shell.execute_reply.started": "2021-06-21T10:04:21.585890Z"
    },
    "papermill": {
     "duration": 0.064865,
     "end_time": "2021-06-21T10:04:56.612231",
     "exception": false,
     "start_time": "2021-06-21T10:04:56.547366",
     "status": "completed"
    },
    "tags": []
   },
   "outputs": [],
   "source": [
    "# Create lag variable\n",
    "media['Lag_Views'] = np.roll(media['Views_show'], 1)\n",
    "media.Lag_Views.replace(108961,0, inplace=True)"
   ]
  },
  {
   "cell_type": "code",
   "execution_count": 26,
   "id": "billion-floating",
   "metadata": {
    "execution": {
     "iopub.execute_input": "2021-06-21T10:04:56.736255Z",
     "iopub.status.busy": "2021-06-21T10:04:56.735647Z",
     "iopub.status.idle": "2021-06-21T10:04:56.740573Z",
     "shell.execute_reply": "2021-06-21T10:04:56.739988Z",
     "shell.execute_reply.started": "2021-06-21T10:04:21.593489Z"
    },
    "papermill": {
     "duration": 0.072312,
     "end_time": "2021-06-21T10:04:56.740757",
     "exception": false,
     "start_time": "2021-06-21T10:04:56.668445",
     "status": "completed"
    },
    "tags": []
   },
   "outputs": [
    {
     "data": {
      "text/html": [
       "<div>\n",
       "<style scoped>\n",
       "    .dataframe tbody tr th:only-of-type {\n",
       "        vertical-align: middle;\n",
       "    }\n",
       "\n",
       "    .dataframe tbody tr th {\n",
       "        vertical-align: top;\n",
       "    }\n",
       "\n",
       "    .dataframe thead th {\n",
       "        text-align: right;\n",
       "    }\n",
       "</style>\n",
       "<table border=\"1\" class=\"dataframe\">\n",
       "  <thead>\n",
       "    <tr style=\"text-align: right;\">\n",
       "      <th></th>\n",
       "      <th>Date</th>\n",
       "      <th>Views_show</th>\n",
       "      <th>Visitors</th>\n",
       "      <th>Views_platform</th>\n",
       "      <th>Ad_impression</th>\n",
       "      <th>Cricket_match_india</th>\n",
       "      <th>Character_A</th>\n",
       "      <th>day</th>\n",
       "      <th>weekday</th>\n",
       "      <th>weekend</th>\n",
       "      <th>Lag_Views</th>\n",
       "    </tr>\n",
       "  </thead>\n",
       "  <tbody>\n",
       "    <tr>\n",
       "      <th>0</th>\n",
       "      <td>2017-03-01</td>\n",
       "      <td>183738</td>\n",
       "      <td>1260228</td>\n",
       "      <td>1706478</td>\n",
       "      <td>1060860448</td>\n",
       "      <td>0</td>\n",
       "      <td>0</td>\n",
       "      <td>1</td>\n",
       "      <td>4</td>\n",
       "      <td>0</td>\n",
       "      <td>0</td>\n",
       "    </tr>\n",
       "    <tr>\n",
       "      <th>1</th>\n",
       "      <td>2017-03-02</td>\n",
       "      <td>193763</td>\n",
       "      <td>1270561</td>\n",
       "      <td>1690727</td>\n",
       "      <td>1031846645</td>\n",
       "      <td>0</td>\n",
       "      <td>0</td>\n",
       "      <td>2</td>\n",
       "      <td>5</td>\n",
       "      <td>0</td>\n",
       "      <td>183738</td>\n",
       "    </tr>\n",
       "    <tr>\n",
       "      <th>2</th>\n",
       "      <td>2017-03-03</td>\n",
       "      <td>210479</td>\n",
       "      <td>1248183</td>\n",
       "      <td>1726157</td>\n",
       "      <td>1010867575</td>\n",
       "      <td>0</td>\n",
       "      <td>0</td>\n",
       "      <td>3</td>\n",
       "      <td>6</td>\n",
       "      <td>0</td>\n",
       "      <td>193763</td>\n",
       "    </tr>\n",
       "    <tr>\n",
       "      <th>3</th>\n",
       "      <td>2017-03-04</td>\n",
       "      <td>240061</td>\n",
       "      <td>1492913</td>\n",
       "      <td>1855353</td>\n",
       "      <td>1079194579</td>\n",
       "      <td>1</td>\n",
       "      <td>0</td>\n",
       "      <td>4</td>\n",
       "      <td>7</td>\n",
       "      <td>1</td>\n",
       "      <td>210479</td>\n",
       "    </tr>\n",
       "    <tr>\n",
       "      <th>4</th>\n",
       "      <td>2017-03-05</td>\n",
       "      <td>446314</td>\n",
       "      <td>1594712</td>\n",
       "      <td>2041418</td>\n",
       "      <td>1357736987</td>\n",
       "      <td>0</td>\n",
       "      <td>0</td>\n",
       "      <td>5</td>\n",
       "      <td>1</td>\n",
       "      <td>1</td>\n",
       "      <td>240061</td>\n",
       "    </tr>\n",
       "  </tbody>\n",
       "</table>\n",
       "</div>"
      ],
      "text/plain": [
       "        Date  Views_show  Visitors  Views_platform  Ad_impression  \\\n",
       "0 2017-03-01      183738   1260228         1706478     1060860448   \n",
       "1 2017-03-02      193763   1270561         1690727     1031846645   \n",
       "2 2017-03-03      210479   1248183         1726157     1010867575   \n",
       "3 2017-03-04      240061   1492913         1855353     1079194579   \n",
       "4 2017-03-05      446314   1594712         2041418     1357736987   \n",
       "\n",
       "   Cricket_match_india  Character_A  day  weekday  weekend  Lag_Views  \n",
       "0                    0            0    1        4        0          0  \n",
       "1                    0            0    2        5        0     183738  \n",
       "2                    0            0    3        6        0     193763  \n",
       "3                    1            0    4        7        1     210479  \n",
       "4                    0            0    5        1        1     240061  "
      ]
     },
     "execution_count": 26,
     "metadata": {},
     "output_type": "execute_result"
    }
   ],
   "source": [
    "media.head()"
   ]
  },
  {
   "cell_type": "markdown",
   "id": "actual-scanning",
   "metadata": {
    "papermill": {
     "duration": 0.057118,
     "end_time": "2021-06-21T10:04:56.854850",
     "exception": false,
     "start_time": "2021-06-21T10:04:56.797732",
     "status": "completed"
    },
    "tags": []
   },
   "source": [
    "#### Running fourth model (lm4) visitors, Character_A, Lag_views & weekend"
   ]
  },
  {
   "cell_type": "code",
   "execution_count": 27,
   "id": "changed-accessory",
   "metadata": {
    "execution": {
     "iopub.execute_input": "2021-06-21T10:04:56.975436Z",
     "iopub.status.busy": "2021-06-21T10:04:56.974460Z",
     "iopub.status.idle": "2021-06-21T10:04:56.977886Z",
     "shell.execute_reply": "2021-06-21T10:04:56.977350Z",
     "shell.execute_reply.started": "2021-06-21T10:04:21.613569Z"
    },
    "papermill": {
     "duration": 0.065937,
     "end_time": "2021-06-21T10:04:56.978037",
     "exception": false,
     "start_time": "2021-06-21T10:04:56.912100",
     "status": "completed"
    },
    "tags": []
   },
   "outputs": [],
   "source": [
    "# Putting feature variable to X\n",
    "X = media[['Visitors','Character_A','Lag_Views','weekend']]\n",
    "\n",
    "# Putting response variable to y\n",
    "y = media['Views_show']"
   ]
  },
  {
   "cell_type": "code",
   "execution_count": 28,
   "id": "collective-delicious",
   "metadata": {
    "execution": {
     "iopub.execute_input": "2021-06-21T10:04:57.107199Z",
     "iopub.status.busy": "2021-06-21T10:04:57.101083Z",
     "iopub.status.idle": "2021-06-21T10:04:57.111681Z",
     "shell.execute_reply": "2021-06-21T10:04:57.111170Z",
     "shell.execute_reply.started": "2021-06-21T10:04:21.621582Z"
    },
    "papermill": {
     "duration": 0.077581,
     "end_time": "2021-06-21T10:04:57.111845",
     "exception": false,
     "start_time": "2021-06-21T10:04:57.034264",
     "status": "completed"
    },
    "tags": []
   },
   "outputs": [
    {
     "name": "stdout",
     "output_type": "stream",
     "text": [
      "                            OLS Regression Results                            \n",
      "==============================================================================\n",
      "Dep. Variable:             Views_show   R-squared:                       0.740\n",
      "Model:                            OLS   Adj. R-squared:                  0.726\n",
      "Method:                 Least Squares   F-statistic:                     53.46\n",
      "Date:                Mon, 21 Jun 2021   Prob (F-statistic):           3.16e-21\n",
      "Time:                        10:04:57   Log-Likelihood:                -1015.1\n",
      "No. Observations:                  80   AIC:                             2040.\n",
      "Df Residuals:                      75   BIC:                             2052.\n",
      "Df Model:                           4                                         \n",
      "Covariance Type:            nonrobust                                         \n",
      "===============================================================================\n",
      "                  coef    std err          t      P>|t|      [0.025      0.975]\n",
      "-------------------------------------------------------------------------------\n",
      "const        -2.98e+04   7.43e+04     -0.401      0.689   -1.78e+05    1.18e+05\n",
      "Visitors        0.0659      0.047      1.394      0.167      -0.028       0.160\n",
      "Character_A  5.527e+04   2.01e+04      2.748      0.008    1.52e+04    9.53e+04\n",
      "Lag_Views       0.4317      0.065      6.679      0.000       0.303       0.560\n",
      "weekend      2.273e+05    2.4e+04      9.467      0.000    1.79e+05    2.75e+05\n",
      "==============================================================================\n",
      "Omnibus:                        1.425   Durbin-Watson:                   2.626\n",
      "Prob(Omnibus):                  0.491   Jarque-Bera (JB):                0.821\n",
      "Skew:                          -0.130   Prob(JB):                        0.663\n",
      "Kurtosis:                       3.423   Cond. No.                     1.44e+07\n",
      "==============================================================================\n",
      "\n",
      "Notes:\n",
      "[1] Standard Errors assume that the covariance matrix of the errors is correctly specified.\n",
      "[2] The condition number is large, 1.44e+07. This might indicate that there are\n",
      "strong multicollinearity or other numerical problems.\n"
     ]
    }
   ],
   "source": [
    "import statsmodels.api as sm\n",
    "#Unlike SKLearn, statsmodels don't automatically fit a constant, \n",
    "#so you need to use the method sm.add_constant(X) in order to add a constant. \n",
    "X = sm.add_constant(X)\n",
    "# create a fitted model in one line\n",
    "lm_4 = sm.OLS(y,X).fit()\n",
    "print(lm_4.summary())"
   ]
  },
  {
   "cell_type": "code",
   "execution_count": 29,
   "id": "unsigned-contract",
   "metadata": {
    "execution": {
     "iopub.execute_input": "2021-06-21T10:04:57.248267Z",
     "iopub.status.busy": "2021-06-21T10:04:57.232277Z",
     "iopub.status.idle": "2021-06-21T10:04:58.005137Z",
     "shell.execute_reply": "2021-06-21T10:04:58.004603Z",
     "shell.execute_reply.started": "2021-06-21T10:04:21.647870Z"
    },
    "papermill": {
     "duration": 0.837338,
     "end_time": "2021-06-21T10:04:58.005288",
     "exception": false,
     "start_time": "2021-06-21T10:04:57.167950",
     "status": "completed"
    },
    "tags": []
   },
   "outputs": [
    {
     "data": {
      "text/plain": [
       "<AxesSubplot:>"
      ]
     },
     "execution_count": 29,
     "metadata": {},
     "output_type": "execute_result"
    },
    {
     "data": {
      "image/png": "[encoded data removed]",
      "text/plain": [
       "<Figure size 1440x720 with 2 Axes>"
      ]
     },
     "metadata": {
      "needs_background": "light"
     },
     "output_type": "display_data"
    }
   ],
   "source": [
    "plt.figure(figsize = (20,10))        # Size of the figure\n",
    "sns.heatmap(media.corr(),annot = True)"
   ]
  },
  {
   "cell_type": "markdown",
   "id": "given-belief",
   "metadata": {
    "papermill": {
     "duration": 0.058579,
     "end_time": "2021-06-21T10:04:58.122648",
     "exception": false,
     "start_time": "2021-06-21T10:04:58.064069",
     "status": "completed"
    },
    "tags": []
   },
   "source": [
    "#### Running fifth model (lm5) Character_A, weekend & Views_platform"
   ]
  },
  {
   "cell_type": "code",
   "execution_count": 30,
   "id": "global-acrylic",
   "metadata": {
    "execution": {
     "iopub.execute_input": "2021-06-21T10:04:58.247363Z",
     "iopub.status.busy": "2021-06-21T10:04:58.246734Z",
     "iopub.status.idle": "2021-06-21T10:04:58.249612Z",
     "shell.execute_reply": "2021-06-21T10:04:58.249103Z",
     "shell.execute_reply.started": "2021-06-21T10:04:22.350710Z"
    },
    "papermill": {
     "duration": 0.067835,
     "end_time": "2021-06-21T10:04:58.249772",
     "exception": false,
     "start_time": "2021-06-21T10:04:58.181937",
     "status": "completed"
    },
    "tags": []
   },
   "outputs": [],
   "source": [
    "# Putting feature variable to X\n",
    "X = media[['weekend','Character_A','Views_platform']]\n",
    "\n",
    "# Putting response variable to y\n",
    "y = media['Views_show']"
   ]
  },
  {
   "cell_type": "code",
   "execution_count": 31,
   "id": "amateur-emerald",
   "metadata": {
    "execution": {
     "iopub.execute_input": "2021-06-21T10:04:58.385283Z",
     "iopub.status.busy": "2021-06-21T10:04:58.376449Z",
     "iopub.status.idle": "2021-06-21T10:04:58.390434Z",
     "shell.execute_reply": "2021-06-21T10:04:58.389764Z",
     "shell.execute_reply.started": "2021-06-21T10:04:22.357051Z"
    },
    "papermill": {
     "duration": 0.081184,
     "end_time": "2021-06-21T10:04:58.390575",
     "exception": false,
     "start_time": "2021-06-21T10:04:58.309391",
     "status": "completed"
    },
    "tags": []
   },
   "outputs": [
    {
     "name": "stdout",
     "output_type": "stream",
     "text": [
      "                            OLS Regression Results                            \n",
      "==============================================================================\n",
      "Dep. Variable:             Views_show   R-squared:                       0.602\n",
      "Model:                            OLS   Adj. R-squared:                  0.586\n",
      "Method:                 Least Squares   F-statistic:                     38.24\n",
      "Date:                Mon, 21 Jun 2021   Prob (F-statistic):           3.59e-15\n",
      "Time:                        10:04:58   Log-Likelihood:                -1032.3\n",
      "No. Observations:                  80   AIC:                             2073.\n",
      "Df Residuals:                      76   BIC:                             2082.\n",
      "Df Model:                           3                                         \n",
      "Covariance Type:            nonrobust                                         \n",
      "==================================================================================\n",
      "                     coef    std err          t      P>|t|      [0.025      0.975]\n",
      "----------------------------------------------------------------------------------\n",
      "const          -1.205e+05   9.97e+04     -1.208      0.231   -3.19e+05    7.81e+04\n",
      "weekend         1.781e+05   2.78e+04      6.410      0.000    1.23e+05    2.33e+05\n",
      "Character_A     7.062e+04    2.6e+04      2.717      0.008    1.89e+04    1.22e+05\n",
      "Views_platform     0.1507      0.048      3.152      0.002       0.055       0.246\n",
      "==============================================================================\n",
      "Omnibus:                        4.279   Durbin-Watson:                   1.516\n",
      "Prob(Omnibus):                  0.118   Jarque-Bera (JB):                2.153\n",
      "Skew:                           0.061   Prob(JB):                        0.341\n",
      "Kurtosis:                       2.206   Cond. No.                     2.03e+07\n",
      "==============================================================================\n",
      "\n",
      "Notes:\n",
      "[1] Standard Errors assume that the covariance matrix of the errors is correctly specified.\n",
      "[2] The condition number is large, 2.03e+07. This might indicate that there are\n",
      "strong multicollinearity or other numerical problems.\n"
     ]
    }
   ],
   "source": [
    "import statsmodels.api as sm\n",
    "#Unlike SKLearn, statsmodels don't automatically fit a constant, \n",
    "#so you need to use the method sm.add_constant(X) in order to add a constant. \n",
    "X = sm.add_constant(X)\n",
    "# create a fitted model in one line\n",
    "lm_5 = sm.OLS(y,X).fit()\n",
    "print(lm_5.summary())"
   ]
  },
  {
   "cell_type": "markdown",
   "id": "focused-cancellation",
   "metadata": {
    "papermill": {
     "duration": 0.059181,
     "end_time": "2021-06-21T10:04:58.509842",
     "exception": false,
     "start_time": "2021-06-21T10:04:58.450661",
     "status": "completed"
    },
    "tags": []
   },
   "source": [
    "#### Running sixth model (lm6) Character_A, weekend & Visitors"
   ]
  },
  {
   "cell_type": "code",
   "execution_count": 32,
   "id": "extended-gardening",
   "metadata": {
    "execution": {
     "iopub.execute_input": "2021-06-21T10:04:58.636642Z",
     "iopub.status.busy": "2021-06-21T10:04:58.635876Z",
     "iopub.status.idle": "2021-06-21T10:04:58.638630Z",
     "shell.execute_reply": "2021-06-21T10:04:58.638138Z",
     "shell.execute_reply.started": "2021-06-21T10:04:22.383878Z"
    },
    "papermill": {
     "duration": 0.068581,
     "end_time": "2021-06-21T10:04:58.638777",
     "exception": false,
     "start_time": "2021-06-21T10:04:58.570196",
     "status": "completed"
    },
    "tags": []
   },
   "outputs": [],
   "source": [
    "# Putting feature variable to X\n",
    "X = media[['weekend','Character_A','Visitors']]\n",
    "\n",
    "# Putting response variable to y\n",
    "y = media['Views_show']"
   ]
  },
  {
   "cell_type": "code",
   "execution_count": 33,
   "id": "individual-employee",
   "metadata": {
    "execution": {
     "iopub.execute_input": "2021-06-21T10:04:58.766112Z",
     "iopub.status.busy": "2021-06-21T10:04:58.765493Z",
     "iopub.status.idle": "2021-06-21T10:04:58.777375Z",
     "shell.execute_reply": "2021-06-21T10:04:58.776746Z",
     "shell.execute_reply.started": "2021-06-21T10:04:22.395888Z"
    },
    "papermill": {
     "duration": 0.078766,
     "end_time": "2021-06-21T10:04:58.777527",
     "exception": false,
     "start_time": "2021-06-21T10:04:58.698761",
     "status": "completed"
    },
    "tags": []
   },
   "outputs": [
    {
     "name": "stdout",
     "output_type": "stream",
     "text": [
      "                            OLS Regression Results                            \n",
      "==============================================================================\n",
      "Dep. Variable:             Views_show   R-squared:                       0.586\n",
      "Model:                            OLS   Adj. R-squared:                  0.570\n",
      "Method:                 Least Squares   F-statistic:                     35.84\n",
      "Date:                Mon, 21 Jun 2021   Prob (F-statistic):           1.53e-14\n",
      "Time:                        10:04:58   Log-Likelihood:                -1033.8\n",
      "No. Observations:                  80   AIC:                             2076.\n",
      "Df Residuals:                      76   BIC:                             2085.\n",
      "Df Model:                           3                                         \n",
      "Covariance Type:            nonrobust                                         \n",
      "===============================================================================\n",
      "                  coef    std err          t      P>|t|      [0.025      0.975]\n",
      "-------------------------------------------------------------------------------\n",
      "const       -4.722e+04   9.31e+04     -0.507      0.613   -2.33e+05    1.38e+05\n",
      "weekend      1.812e+05   2.89e+04      6.281      0.000    1.24e+05    2.39e+05\n",
      "Character_A  9.542e+04   2.41e+04      3.963      0.000    4.75e+04    1.43e+05\n",
      "Visitors        0.1480      0.057      2.586      0.012       0.034       0.262\n",
      "==============================================================================\n",
      "Omnibus:                        0.908   Durbin-Watson:                   1.600\n",
      "Prob(Omnibus):                  0.635   Jarque-Bera (JB):                0.876\n",
      "Skew:                          -0.009   Prob(JB):                        0.645\n",
      "Kurtosis:                       2.488   Cond. No.                     1.42e+07\n",
      "==============================================================================\n",
      "\n",
      "Notes:\n",
      "[1] Standard Errors assume that the covariance matrix of the errors is correctly specified.\n",
      "[2] The condition number is large, 1.42e+07. This might indicate that there are\n",
      "strong multicollinearity or other numerical problems.\n"
     ]
    }
   ],
   "source": [
    "import statsmodels.api as sm\n",
    "#Unlike SKLearn, statsmodels don't automatically fit a constant, \n",
    "#so you need to use the method sm.add_constant(X) in order to add a constant. \n",
    "X = sm.add_constant(X)\n",
    "# create a fitted model in one line\n",
    "lm_6 = sm.OLS(y,X).fit()\n",
    "print(lm_6.summary())"
   ]
  },
  {
   "cell_type": "markdown",
   "id": "meaning-wallet",
   "metadata": {
    "papermill": {
     "duration": 0.061054,
     "end_time": "2021-06-21T10:04:58.899335",
     "exception": false,
     "start_time": "2021-06-21T10:04:58.838281",
     "status": "completed"
    },
    "tags": []
   },
   "source": [
    "#### Running seventh model (lm7) Character_A, weekend, Visitors & Ad_impressions"
   ]
  },
  {
   "cell_type": "code",
   "execution_count": 34,
   "id": "organizational-collective",
   "metadata": {
    "execution": {
     "iopub.execute_input": "2021-06-21T10:04:59.027849Z",
     "iopub.status.busy": "2021-06-21T10:04:59.027209Z",
     "iopub.status.idle": "2021-06-21T10:04:59.029964Z",
     "shell.execute_reply": "2021-06-21T10:04:59.029472Z",
     "shell.execute_reply.started": "2021-06-21T10:04:22.424518Z"
    },
    "papermill": {
     "duration": 0.069796,
     "end_time": "2021-06-21T10:04:59.030108",
     "exception": false,
     "start_time": "2021-06-21T10:04:58.960312",
     "status": "completed"
    },
    "tags": []
   },
   "outputs": [],
   "source": [
    "# Putting feature variable to X\n",
    "X = media[['weekend','Character_A','Visitors','Ad_impression']]\n",
    "\n",
    "# Putting response variable to y\n",
    "y = media['Views_show']"
   ]
  },
  {
   "cell_type": "code",
   "execution_count": 35,
   "id": "incoming-projector",
   "metadata": {
    "execution": {
     "iopub.execute_input": "2021-06-21T10:04:59.160101Z",
     "iopub.status.busy": "2021-06-21T10:04:59.157703Z",
     "iopub.status.idle": "2021-06-21T10:04:59.170172Z",
     "shell.execute_reply": "2021-06-21T10:04:59.170617Z",
     "shell.execute_reply.started": "2021-06-21T10:04:22.433188Z"
    },
    "papermill": {
     "duration": 0.081092,
     "end_time": "2021-06-21T10:04:59.170807",
     "exception": false,
     "start_time": "2021-06-21T10:04:59.089715",
     "status": "completed"
    },
    "tags": []
   },
   "outputs": [
    {
     "name": "stdout",
     "output_type": "stream",
     "text": [
      "                            OLS Regression Results                            \n",
      "==============================================================================\n",
      "Dep. Variable:             Views_show   R-squared:                       0.803\n",
      "Model:                            OLS   Adj. R-squared:                  0.792\n",
      "Method:                 Least Squares   F-statistic:                     76.40\n",
      "Date:                Mon, 21 Jun 2021   Prob (F-statistic):           1.10e-25\n",
      "Time:                        10:04:59   Log-Likelihood:                -1004.1\n",
      "No. Observations:                  80   AIC:                             2018.\n",
      "Df Residuals:                      75   BIC:                             2030.\n",
      "Df Model:                           4                                         \n",
      "Covariance Type:            nonrobust                                         \n",
      "=================================================================================\n",
      "                    coef    std err          t      P>|t|      [0.025      0.975]\n",
      "---------------------------------------------------------------------------------\n",
      "const         -2.834e+05   6.97e+04     -4.067      0.000   -4.22e+05   -1.45e+05\n",
      "weekend        1.485e+05   2.04e+04      7.296      0.000    1.08e+05    1.89e+05\n",
      "Character_A   -2.934e+04   2.16e+04     -1.356      0.179   -7.24e+04    1.38e+04\n",
      "Visitors          0.0144      0.042      0.340      0.735      -0.070       0.099\n",
      "Ad_impression     0.0004   3.96e-05      9.090      0.000       0.000       0.000\n",
      "==============================================================================\n",
      "Omnibus:                        4.808   Durbin-Watson:                   1.166\n",
      "Prob(Omnibus):                  0.090   Jarque-Bera (JB):                4.007\n",
      "Skew:                           0.476   Prob(JB):                        0.135\n",
      "Kurtosis:                       3.545   Cond. No.                     1.32e+10\n",
      "==============================================================================\n",
      "\n",
      "Notes:\n",
      "[1] Standard Errors assume that the covariance matrix of the errors is correctly specified.\n",
      "[2] The condition number is large, 1.32e+10. This might indicate that there are\n",
      "strong multicollinearity or other numerical problems.\n"
     ]
    }
   ],
   "source": [
    "import statsmodels.api as sm\n",
    "#Unlike SKLearn, statsmodels don't automatically fit a constant, \n",
    "#so you need to use the method sm.add_constant(X) in order to add a constant. \n",
    "X = sm.add_constant(X)\n",
    "# create a fitted model in one line\n",
    "lm_7 = sm.OLS(y,X).fit()\n",
    "print(lm_7.summary())"
   ]
  },
  {
   "cell_type": "markdown",
   "id": "rotary-arrow",
   "metadata": {
    "papermill": {
     "duration": 0.059043,
     "end_time": "2021-06-21T10:04:59.290179",
     "exception": false,
     "start_time": "2021-06-21T10:04:59.231136",
     "status": "completed"
    },
    "tags": []
   },
   "source": [
    "#### Running eight model (lm8) Character_A, weekend & Ad_impressions"
   ]
  },
  {
   "cell_type": "code",
   "execution_count": 36,
   "id": "immediate-speaking",
   "metadata": {
    "execution": {
     "iopub.execute_input": "2021-06-21T10:04:59.416016Z",
     "iopub.status.busy": "2021-06-21T10:04:59.415345Z",
     "iopub.status.idle": "2021-06-21T10:04:59.419325Z",
     "shell.execute_reply": "2021-06-21T10:04:59.419736Z",
     "shell.execute_reply.started": "2021-06-21T10:04:22.459184Z"
    },
    "papermill": {
     "duration": 0.070054,
     "end_time": "2021-06-21T10:04:59.419930",
     "exception": false,
     "start_time": "2021-06-21T10:04:59.349876",
     "status": "completed"
    },
    "tags": []
   },
   "outputs": [],
   "source": [
    "# Putting feature variable to X\n",
    "X = media[['weekend','Character_A','Ad_impression']]\n",
    "\n",
    "# Putting response variable to y\n",
    "y = media['Views_show']"
   ]
  },
  {
   "cell_type": "code",
   "execution_count": 37,
   "id": "convinced-workshop",
   "metadata": {
    "execution": {
     "iopub.execute_input": "2021-06-21T10:04:59.548393Z",
     "iopub.status.busy": "2021-06-21T10:04:59.547711Z",
     "iopub.status.idle": "2021-06-21T10:04:59.563028Z",
     "shell.execute_reply": "2021-06-21T10:04:59.562507Z",
     "shell.execute_reply.started": "2021-06-21T10:04:22.465795Z"
    },
    "papermill": {
     "duration": 0.083352,
     "end_time": "2021-06-21T10:04:59.563196",
     "exception": false,
     "start_time": "2021-06-21T10:04:59.479844",
     "status": "completed"
    },
    "tags": []
   },
   "outputs": [
    {
     "name": "stdout",
     "output_type": "stream",
     "text": [
      "                            OLS Regression Results                            \n",
      "==============================================================================\n",
      "Dep. Variable:             Views_show   R-squared:                       0.803\n",
      "Model:                            OLS   Adj. R-squared:                  0.795\n",
      "Method:                 Least Squares   F-statistic:                     103.0\n",
      "Date:                Mon, 21 Jun 2021   Prob (F-statistic):           1.05e-26\n",
      "Time:                        10:04:59   Log-Likelihood:                -1004.2\n",
      "No. Observations:                  80   AIC:                             2016.\n",
      "Df Residuals:                      76   BIC:                             2026.\n",
      "Df Model:                           3                                         \n",
      "Covariance Type:            nonrobust                                         \n",
      "=================================================================================\n",
      "                    coef    std err          t      P>|t|      [0.025      0.975]\n",
      "---------------------------------------------------------------------------------\n",
      "const         -2.661e+05   4.74e+04     -5.609      0.000   -3.61e+05   -1.72e+05\n",
      "weekend         1.51e+05   1.88e+04      8.019      0.000    1.14e+05    1.89e+05\n",
      "Character_A    -2.99e+04   2.14e+04     -1.394      0.167   -7.26e+04    1.28e+04\n",
      "Ad_impression     0.0004   3.69e-05      9.875      0.000       0.000       0.000\n",
      "==============================================================================\n",
      "Omnibus:                        4.723   Durbin-Watson:                   1.169\n",
      "Prob(Omnibus):                  0.094   Jarque-Bera (JB):                3.939\n",
      "Skew:                           0.453   Prob(JB):                        0.139\n",
      "Kurtosis:                       3.601   Cond. No.                     9.26e+09\n",
      "==============================================================================\n",
      "\n",
      "Notes:\n",
      "[1] Standard Errors assume that the covariance matrix of the errors is correctly specified.\n",
      "[2] The condition number is large, 9.26e+09. This might indicate that there are\n",
      "strong multicollinearity or other numerical problems.\n"
     ]
    }
   ],
   "source": [
    "import statsmodels.api as sm\n",
    "#Unlike SKLearn, statsmodels don't automatically fit a constant, \n",
    "#so you need to use the method sm.add_constant(X) in order to add a constant. \n",
    "X = sm.add_constant(X)\n",
    "# create a fitted model in one line\n",
    "lm_8 = sm.OLS(y,X).fit()\n",
    "print(lm_8.summary())"
   ]
  },
  {
   "cell_type": "code",
   "execution_count": 38,
   "id": "marine-renewal",
   "metadata": {
    "execution": {
     "iopub.execute_input": "2021-06-21T10:04:59.690895Z",
     "iopub.status.busy": "2021-06-21T10:04:59.690034Z",
     "iopub.status.idle": "2021-06-21T10:04:59.692515Z",
     "shell.execute_reply": "2021-06-21T10:04:59.692983Z",
     "shell.execute_reply.started": "2021-06-21T10:04:22.490776Z"
    },
    "papermill": {
     "duration": 0.069589,
     "end_time": "2021-06-21T10:04:59.693176",
     "exception": false,
     "start_time": "2021-06-21T10:04:59.623587",
     "status": "completed"
    },
    "tags": []
   },
   "outputs": [],
   "source": [
    "#Ad impression in million\n",
    "media['ad_impression_million'] = media['Ad_impression']/1000000"
   ]
  },
  {
   "cell_type": "markdown",
   "id": "confirmed-somalia",
   "metadata": {
    "papermill": {
     "duration": 0.062181,
     "end_time": "2021-06-21T10:04:59.815493",
     "exception": false,
     "start_time": "2021-06-21T10:04:59.753312",
     "status": "completed"
    },
    "tags": []
   },
   "source": [
    "#### Running seventh model (lm7) Character_A, weekend, Visitors, ad_impressions_million & Cricket_match_india"
   ]
  },
  {
   "cell_type": "code",
   "execution_count": 39,
   "id": "english-portal",
   "metadata": {
    "execution": {
     "iopub.execute_input": "2021-06-21T10:04:59.942667Z",
     "iopub.status.busy": "2021-06-21T10:04:59.942064Z",
     "iopub.status.idle": "2021-06-21T10:04:59.945185Z",
     "shell.execute_reply": "2021-06-21T10:04:59.944671Z",
     "shell.execute_reply.started": "2021-06-21T10:04:22.497321Z"
    },
    "papermill": {
     "duration": 0.068929,
     "end_time": "2021-06-21T10:04:59.945332",
     "exception": false,
     "start_time": "2021-06-21T10:04:59.876403",
     "status": "completed"
    },
    "tags": []
   },
   "outputs": [],
   "source": [
    "# Putting feature variable to X\n",
    "X = media[['weekend','Character_A','ad_impression_million','Cricket_match_india']]\n",
    "\n",
    "# Putting response variable to y\n",
    "y = media['Views_show']"
   ]
  },
  {
   "cell_type": "code",
   "execution_count": 40,
   "id": "split-lambda",
   "metadata": {
    "execution": {
     "iopub.execute_input": "2021-06-21T10:05:00.077729Z",
     "iopub.status.busy": "2021-06-21T10:05:00.077058Z",
     "iopub.status.idle": "2021-06-21T10:05:00.092028Z",
     "shell.execute_reply": "2021-06-21T10:05:00.091501Z",
     "shell.execute_reply.started": "2021-06-21T10:04:22.511119Z"
    },
    "papermill": {
     "duration": 0.085527,
     "end_time": "2021-06-21T10:05:00.092169",
     "exception": false,
     "start_time": "2021-06-21T10:05:00.006642",
     "status": "completed"
    },
    "tags": []
   },
   "outputs": [
    {
     "name": "stdout",
     "output_type": "stream",
     "text": [
      "                            OLS Regression Results                            \n",
      "==============================================================================\n",
      "Dep. Variable:             Views_show   R-squared:                       0.803\n",
      "Model:                            OLS   Adj. R-squared:                  0.793\n",
      "Method:                 Least Squares   F-statistic:                     76.59\n",
      "Date:                Mon, 21 Jun 2021   Prob (F-statistic):           1.02e-25\n",
      "Time:                        10:05:00   Log-Likelihood:                -1004.0\n",
      "No. Observations:                  80   AIC:                             2018.\n",
      "Df Residuals:                      75   BIC:                             2030.\n",
      "Df Model:                           4                                         \n",
      "Covariance Type:            nonrobust                                         \n",
      "=========================================================================================\n",
      "                            coef    std err          t      P>|t|      [0.025      0.975]\n",
      "-----------------------------------------------------------------------------------------\n",
      "const                 -2.633e+05    4.8e+04     -5.484      0.000   -3.59e+05   -1.68e+05\n",
      "weekend                1.521e+05    1.9e+04      7.987      0.000    1.14e+05     1.9e+05\n",
      "Character_A           -3.196e+04   2.19e+04     -1.457      0.149   -7.57e+04    1.17e+04\n",
      "ad_impression_million   363.7938     37.113      9.802      0.000     289.861     437.727\n",
      "Cricket_match_india   -1.396e+04   2.74e+04     -0.510      0.612   -6.85e+04    4.06e+04\n",
      "==============================================================================\n",
      "Omnibus:                        5.270   Durbin-Watson:                   1.161\n",
      "Prob(Omnibus):                  0.072   Jarque-Bera (JB):                4.560\n",
      "Skew:                           0.468   Prob(JB):                        0.102\n",
      "Kurtosis:                       3.701   Cond. No.                     9.32e+03\n",
      "==============================================================================\n",
      "\n",
      "Notes:\n",
      "[1] Standard Errors assume that the covariance matrix of the errors is correctly specified.\n",
      "[2] The condition number is large, 9.32e+03. This might indicate that there are\n",
      "strong multicollinearity or other numerical problems.\n"
     ]
    }
   ],
   "source": [
    "import statsmodels.api as sm\n",
    "#Unlike SKLearn, statsmodels don't automatically fit a constant, \n",
    "#so you need to use the method sm.add_constant(X) in order to add a constant. \n",
    "X = sm.add_constant(X)\n",
    "# create a fitted model in one line\n",
    "lm_9 = sm.OLS(y,X).fit()\n",
    "print(lm_9.summary())"
   ]
  },
  {
   "cell_type": "markdown",
   "id": "promotional-energy",
   "metadata": {
    "papermill": {
     "duration": 0.061259,
     "end_time": "2021-06-21T10:05:00.214367",
     "exception": false,
     "start_time": "2021-06-21T10:05:00.153108",
     "status": "completed"
    },
    "tags": []
   },
   "source": [
    "#### Running seventh model (lm7) Character_A, weekend & ad_impressions_million"
   ]
  },
  {
   "cell_type": "code",
   "execution_count": 41,
   "id": "medium-waste",
   "metadata": {
    "execution": {
     "iopub.execute_input": "2021-06-21T10:05:00.343167Z",
     "iopub.status.busy": "2021-06-21T10:05:00.342484Z",
     "iopub.status.idle": "2021-06-21T10:05:00.345223Z",
     "shell.execute_reply": "2021-06-21T10:05:00.345661Z",
     "shell.execute_reply.started": "2021-06-21T10:04:22.537689Z"
    },
    "papermill": {
     "duration": 0.070206,
     "end_time": "2021-06-21T10:05:00.345848",
     "exception": false,
     "start_time": "2021-06-21T10:05:00.275642",
     "status": "completed"
    },
    "tags": []
   },
   "outputs": [],
   "source": [
    "# Putting feature variable to X\n",
    "X = media[['weekend','Character_A','ad_impression_million']]\n",
    "\n",
    "# Putting response variable to y\n",
    "y = media['Views_show']"
   ]
  },
  {
   "cell_type": "code",
   "execution_count": 42,
   "id": "pointed-ballet",
   "metadata": {
    "execution": {
     "iopub.execute_input": "2021-06-21T10:05:00.480103Z",
     "iopub.status.busy": "2021-06-21T10:05:00.479479Z",
     "iopub.status.idle": "2021-06-21T10:05:00.488499Z",
     "shell.execute_reply": "2021-06-21T10:05:00.488015Z",
     "shell.execute_reply.started": "2021-06-21T10:04:22.545340Z"
    },
    "papermill": {
     "duration": 0.081711,
     "end_time": "2021-06-21T10:05:00.488634",
     "exception": false,
     "start_time": "2021-06-21T10:05:00.406923",
     "status": "completed"
    },
    "tags": []
   },
   "outputs": [
    {
     "name": "stdout",
     "output_type": "stream",
     "text": [
      "                            OLS Regression Results                            \n",
      "==============================================================================\n",
      "Dep. Variable:             Views_show   R-squared:                       0.803\n",
      "Model:                            OLS   Adj. R-squared:                  0.795\n",
      "Method:                 Least Squares   F-statistic:                     103.0\n",
      "Date:                Mon, 21 Jun 2021   Prob (F-statistic):           1.05e-26\n",
      "Time:                        10:05:00   Log-Likelihood:                -1004.2\n",
      "No. Observations:                  80   AIC:                             2016.\n",
      "Df Residuals:                      76   BIC:                             2026.\n",
      "Df Model:                           3                                         \n",
      "Covariance Type:            nonrobust                                         \n",
      "=========================================================================================\n",
      "                            coef    std err          t      P>|t|      [0.025      0.975]\n",
      "-----------------------------------------------------------------------------------------\n",
      "const                 -2.661e+05   4.74e+04     -5.609      0.000   -3.61e+05   -1.72e+05\n",
      "weekend                 1.51e+05   1.88e+04      8.019      0.000    1.14e+05    1.89e+05\n",
      "Character_A            -2.99e+04   2.14e+04     -1.394      0.167   -7.26e+04    1.28e+04\n",
      "ad_impression_million   364.4670     36.909      9.875      0.000     290.957     437.977\n",
      "==============================================================================\n",
      "Omnibus:                        4.723   Durbin-Watson:                   1.169\n",
      "Prob(Omnibus):                  0.094   Jarque-Bera (JB):                3.939\n",
      "Skew:                           0.453   Prob(JB):                        0.139\n",
      "Kurtosis:                       3.601   Cond. No.                     9.26e+03\n",
      "==============================================================================\n",
      "\n",
      "Notes:\n",
      "[1] Standard Errors assume that the covariance matrix of the errors is correctly specified.\n",
      "[2] The condition number is large, 9.26e+03. This might indicate that there are\n",
      "strong multicollinearity or other numerical problems.\n"
     ]
    }
   ],
   "source": [
    "import statsmodels.api as sm\n",
    "#Unlike SKLearn, statsmodels don't automatically fit a constant, \n",
    "#so you need to use the method sm.add_constant(X) in order to add a constant. \n",
    "X = sm.add_constant(X)\n",
    "# create a fitted model in one line\n",
    "lm_10 = sm.OLS(y,X).fit()\n",
    "print(lm_10.summary())"
   ]
  },
  {
   "cell_type": "markdown",
   "id": "wound-ebony",
   "metadata": {
    "papermill": {
     "duration": 0.062449,
     "end_time": "2021-06-21T10:05:00.612401",
     "exception": false,
     "start_time": "2021-06-21T10:05:00.549952",
     "status": "completed"
    },
    "tags": []
   },
   "source": [
    "#### Making predictions using lm10"
   ]
  },
  {
   "cell_type": "code",
   "execution_count": 43,
   "id": "involved-barrier",
   "metadata": {
    "execution": {
     "iopub.execute_input": "2021-06-21T10:05:00.748016Z",
     "iopub.status.busy": "2021-06-21T10:05:00.747177Z",
     "iopub.status.idle": "2021-06-21T10:05:00.749902Z",
     "shell.execute_reply": "2021-06-21T10:05:00.749230Z",
     "shell.execute_reply.started": "2021-06-21T10:04:22.570671Z"
    },
    "papermill": {
     "duration": 0.07293,
     "end_time": "2021-06-21T10:05:00.750055",
     "exception": false,
     "start_time": "2021-06-21T10:05:00.677125",
     "status": "completed"
    },
    "tags": []
   },
   "outputs": [],
   "source": [
    "# Making predictions using the model\n",
    "X = media[['weekend','Character_A','ad_impression_million']]\n",
    "X = sm.add_constant(X)\n",
    "Predicted_views = lm_10.predict(X)"
   ]
  },
  {
   "cell_type": "code",
   "execution_count": 44,
   "id": "derived-african",
   "metadata": {
    "execution": {
     "iopub.execute_input": "2021-06-21T10:05:00.878872Z",
     "iopub.status.busy": "2021-06-21T10:05:00.878085Z",
     "iopub.status.idle": "2021-06-21T10:05:00.880705Z",
     "shell.execute_reply": "2021-06-21T10:05:00.880223Z",
     "shell.execute_reply.started": "2021-06-21T10:04:22.585938Z"
    },
    "papermill": {
     "duration": 0.069488,
     "end_time": "2021-06-21T10:05:00.880862",
     "exception": false,
     "start_time": "2021-06-21T10:05:00.811374",
     "status": "completed"
    },
    "tags": []
   },
   "outputs": [],
   "source": [
    "from sklearn.metrics import mean_squared_error, r2_score\n",
    "mse = mean_squared_error(media.Views_show, Predicted_views)\n",
    "r_squared = r2_score(media.Views_show, Predicted_views)"
   ]
  },
  {
   "cell_type": "code",
   "execution_count": 45,
   "id": "powered-charles",
   "metadata": {
    "execution": {
     "iopub.execute_input": "2021-06-21T10:05:01.009344Z",
     "iopub.status.busy": "2021-06-21T10:05:01.008357Z",
     "iopub.status.idle": "2021-06-21T10:05:01.012002Z",
     "shell.execute_reply": "2021-06-21T10:05:01.012453Z",
     "shell.execute_reply.started": "2021-06-21T10:04:22.598294Z"
    },
    "papermill": {
     "duration": 0.070413,
     "end_time": "2021-06-21T10:05:01.012639",
     "exception": false,
     "start_time": "2021-06-21T10:05:00.942226",
     "status": "completed"
    },
    "tags": []
   },
   "outputs": [
    {
     "name": "stdout",
     "output_type": "stream",
     "text": [
      "Mean_Squared_Error : 4677651616.2534075\n",
      "r_square_value : 0.802643446857565\n"
     ]
    }
   ],
   "source": [
    "print('Mean_Squared_Error :' ,mse)\n",
    "print('r_square_value :',r_squared)"
   ]
  },
  {
   "cell_type": "code",
   "execution_count": 46,
   "id": "assisted-fifth",
   "metadata": {
    "execution": {
     "iopub.execute_input": "2021-06-21T10:05:01.166700Z",
     "iopub.status.busy": "2021-06-21T10:05:01.165958Z",
     "iopub.status.idle": "2021-06-21T10:05:01.305833Z",
     "shell.execute_reply": "2021-06-21T10:05:01.305293Z",
     "shell.execute_reply.started": "2021-06-21T10:04:22.613562Z"
    },
    "papermill": {
     "duration": 0.23243,
     "end_time": "2021-06-21T10:05:01.305967",
     "exception": false,
     "start_time": "2021-06-21T10:05:01.073537",
     "status": "completed"
    },
    "tags": []
   },
   "outputs": [
    {
     "data": {
      "text/plain": [
       "Text(0, 0.5, 'Views')"
      ]
     },
     "execution_count": 46,
     "metadata": {},
     "output_type": "execute_result"
    },
    {
     "data": {
      "image/png": "[encoded data removed]",
      "text/plain": [
       "<Figure size 432x288 with 1 Axes>"
      ]
     },
     "metadata": {
      "needs_background": "light"
     },
     "output_type": "display_data"
    }
   ],
   "source": [
    "#Actual vs Predicted\n",
    "c = [i for i in range(1,81,1)]\n",
    "fig = plt.figure()\n",
    "plt.plot(c,media.Views_show, color=\"blue\", linewidth=2.5, linestyle=\"-\")\n",
    "plt.plot(c,Predicted_views, color=\"red\",  linewidth=2.5, linestyle=\"-\")\n",
    "fig.suptitle('Actual and Predicted', fontsize=20)              # Plot heading \n",
    "plt.xlabel('Index', fontsize=18)                               # X-label\n",
    "plt.ylabel('Views', fontsize=16)                               # Y-label"
   ]
  },
  {
   "cell_type": "code",
   "execution_count": 47,
   "id": "relevant-alabama",
   "metadata": {
    "execution": {
     "iopub.execute_input": "2021-06-21T10:05:01.462224Z",
     "iopub.status.busy": "2021-06-21T10:05:01.459083Z",
     "iopub.status.idle": "2021-06-21T10:05:01.601686Z",
     "shell.execute_reply": "2021-06-21T10:05:01.601087Z",
     "shell.execute_reply.started": "2021-06-21T10:04:22.774777Z"
    },
    "papermill": {
     "duration": 0.233094,
     "end_time": "2021-06-21T10:05:01.601839",
     "exception": false,
     "start_time": "2021-06-21T10:05:01.368745",
     "status": "completed"
    },
    "tags": []
   },
   "outputs": [
    {
     "data": {
      "text/plain": [
       "Text(0, 0.5, 'Views_show-Predicted_views')"
      ]
     },
     "execution_count": 47,
     "metadata": {},
     "output_type": "execute_result"
    },
    {
     "data": {
      "image/png": "[encoded data removed]",
      "text/plain": [
       "<Figure size 432x288 with 1 Axes>"
      ]
     },
     "metadata": {
      "needs_background": "light"
     },
     "output_type": "display_data"
    }
   ],
   "source": [
    "# Error terms\n",
    "c = [i for i in range(1,81,1)]\n",
    "fig = plt.figure()\n",
    "plt.plot(c,media.Views_show-Predicted_views, color=\"blue\", linewidth=2.5, linestyle=\"-\")\n",
    "fig.suptitle('Error Terms', fontsize=20)              # Plot heading \n",
    "plt.xlabel('Index', fontsize=18)                      # X-label\n",
    "plt.ylabel('Views_show-Predicted_views', fontsize=16)                # Y-label"
   ]
  },
  {
   "cell_type": "markdown",
   "id": "tested-vietnamese",
   "metadata": {
    "papermill": {
     "duration": 0.064366,
     "end_time": "2021-06-21T10:05:01.730649",
     "exception": false,
     "start_time": "2021-06-21T10:05:01.666283",
     "status": "completed"
    },
    "tags": []
   },
   "source": [
    "#### Making predictions using lm6"
   ]
  },
  {
   "cell_type": "code",
   "execution_count": 48,
   "id": "lasting-glasgow",
   "metadata": {
    "execution": {
     "iopub.execute_input": "2021-06-21T10:05:01.869276Z",
     "iopub.status.busy": "2021-06-21T10:05:01.868474Z",
     "iopub.status.idle": "2021-06-21T10:05:01.871347Z",
     "shell.execute_reply": "2021-06-21T10:05:01.870847Z",
     "shell.execute_reply.started": "2021-06-21T10:04:22.931819Z"
    },
    "papermill": {
     "duration": 0.075866,
     "end_time": "2021-06-21T10:05:01.871474",
     "exception": false,
     "start_time": "2021-06-21T10:05:01.795608",
     "status": "completed"
    },
    "tags": []
   },
   "outputs": [],
   "source": [
    "# Making predictions using the model\n",
    "X = media[['weekend','Character_A','Visitors']]\n",
    "X = sm.add_constant(X)\n",
    "Predicted_views = lm_6.predict(X)"
   ]
  },
  {
   "cell_type": "code",
   "execution_count": 49,
   "id": "handled-grain",
   "metadata": {
    "execution": {
     "iopub.execute_input": "2021-06-21T10:05:02.009244Z",
     "iopub.status.busy": "2021-06-21T10:05:02.008385Z",
     "iopub.status.idle": "2021-06-21T10:05:02.011934Z",
     "shell.execute_reply": "2021-06-21T10:05:02.011285Z",
     "shell.execute_reply.started": "2021-06-21T10:04:22.942895Z"
    },
    "papermill": {
     "duration": 0.075325,
     "end_time": "2021-06-21T10:05:02.012083",
     "exception": false,
     "start_time": "2021-06-21T10:05:01.936758",
     "status": "completed"
    },
    "tags": []
   },
   "outputs": [],
   "source": [
    "from sklearn.metrics import mean_squared_error, r2_score\n",
    "mse = mean_squared_error(media.Views_show, Predicted_views)\n",
    "r_squared = r2_score(media.Views_show, Predicted_views)"
   ]
  },
  {
   "cell_type": "code",
   "execution_count": 50,
   "id": "everyday-model",
   "metadata": {
    "execution": {
     "iopub.execute_input": "2021-06-21T10:05:02.148551Z",
     "iopub.status.busy": "2021-06-21T10:05:02.147948Z",
     "iopub.status.idle": "2021-06-21T10:05:02.152423Z",
     "shell.execute_reply": "2021-06-21T10:05:02.151703Z",
     "shell.execute_reply.started": "2021-06-21T10:04:22.954175Z"
    },
    "papermill": {
     "duration": 0.074997,
     "end_time": "2021-06-21T10:05:02.152560",
     "exception": false,
     "start_time": "2021-06-21T10:05:02.077563",
     "status": "completed"
    },
    "tags": []
   },
   "outputs": [
    {
     "name": "stdout",
     "output_type": "stream",
     "text": [
      "Mean_Squared_Error : 9815432480.45152\n",
      "r_square_value : 0.5858734080979341\n"
     ]
    }
   ],
   "source": [
    "print('Mean_Squared_Error :' ,mse)\n",
    "print('r_square_value :',r_squared)"
   ]
  },
  {
   "cell_type": "code",
   "execution_count": 51,
   "id": "compressed-producer",
   "metadata": {
    "execution": {
     "iopub.execute_input": "2021-06-21T10:05:02.289273Z",
     "iopub.status.busy": "2021-06-21T10:05:02.288629Z",
     "iopub.status.idle": "2021-06-21T10:05:02.447378Z",
     "shell.execute_reply": "2021-06-21T10:05:02.447862Z",
     "shell.execute_reply.started": "2021-06-21T10:04:22.967204Z"
    },
    "papermill": {
     "duration": 0.230135,
     "end_time": "2021-06-21T10:05:02.448032",
     "exception": false,
     "start_time": "2021-06-21T10:05:02.217897",
     "status": "completed"
    },
    "tags": []
   },
   "outputs": [
    {
     "data": {
      "text/plain": [
       "Text(0, 0.5, 'Views')"
      ]
     },
     "execution_count": 51,
     "metadata": {},
     "output_type": "execute_result"
    },
    {
     "data": {
      "image/png": "[encoded data removed]",
      "text/plain": [
       "<Figure size 432x288 with 1 Axes>"
      ]
     },
     "metadata": {
      "needs_background": "light"
     },
     "output_type": "display_data"
    }
   ],
   "source": [
    "#Actual vs Predicted\n",
    "c = [i for i in range(1,81,1)]\n",
    "fig = plt.figure()\n",
    "plt.plot(c,media.Views_show, color=\"blue\", linewidth=2.5, linestyle=\"-\")\n",
    "plt.plot(c,Predicted_views, color=\"red\",  linewidth=2.5, linestyle=\"-\")\n",
    "fig.suptitle('Actual and Predicted', fontsize=20)              # Plot heading \n",
    "plt.xlabel('Index', fontsize=18)                               # X-label\n",
    "plt.ylabel('Views', fontsize=16)                               # Y-label"
   ]
  },
  {
   "cell_type": "code",
   "execution_count": 52,
   "id": "promotional-nightlife",
   "metadata": {
    "execution": {
     "iopub.execute_input": "2021-06-21T10:05:02.586705Z",
     "iopub.status.busy": "2021-06-21T10:05:02.586121Z",
     "iopub.status.idle": "2021-06-21T10:05:02.734414Z",
     "shell.execute_reply": "2021-06-21T10:05:02.735018Z",
     "shell.execute_reply.started": "2021-06-21T10:04:23.117209Z"
    },
    "papermill": {
     "duration": 0.219519,
     "end_time": "2021-06-21T10:05:02.735181",
     "exception": false,
     "start_time": "2021-06-21T10:05:02.515662",
     "status": "completed"
    },
    "tags": []
   },
   "outputs": [
    {
     "data": {
      "text/plain": [
       "Text(0, 0.5, 'Views_show-Predicted_views')"
      ]
     },
     "execution_count": 52,
     "metadata": {},
     "output_type": "execute_result"
    },
    {
     "data": {
      "image/png": "[encoded data removed]",
      "text/plain": [
       "<Figure size 432x288 with 1 Axes>"
      ]
     },
     "metadata": {
      "needs_background": "light"
     },
     "output_type": "display_data"
    }
   ],
   "source": [
    "# Error terms\n",
    "c = [i for i in range(1,81,1)]\n",
    "fig = plt.figure()\n",
    "plt.plot(c,media.Views_show-Predicted_views, color=\"blue\", linewidth=2.5, linestyle=\"-\")\n",
    "fig.suptitle('Error Terms', fontsize=20)              # Plot heading \n",
    "plt.xlabel('Index', fontsize=18)                      # X-label\n",
    "plt.ylabel('Views_show-Predicted_views', fontsize=16)                # Y-label"
   ]
  }
 ],
 "metadata": {
  "kernelspec": {
   "display_name": "Python 3",
   "language": "python",
   "name": "python3"
  },
  "language_info": {
   "codemirror_mode": {
    "name": "ipython",
    "version": 3
   },
   "file_extension": ".py",
   "mimetype": "text/x-python",
   "name": "python",
   "nbconvert_exporter": "python",
   "pygments_lexer": "ipython3",
   "version": "3.7.9"
  },
  "papermill": {
   "default_parameters": {},
   "duration": 18.76978,
   "end_time": "2021-06-21T10:05:03.514291",
   "environment_variables": {},
   "exception": null,
   "input_path": "__notebook__.ipynb",
   "output_path": "__notebook__.ipynb",
   "parameters": {},
   "start_time": "2021-06-21T10:04:44.744511",
   "version": "2.3.2"
  }
 },
 "nbformat": 4,
 "nbformat_minor": 5
}
